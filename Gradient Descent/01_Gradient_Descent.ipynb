{
 "cells": [
  {
   "cell_type": "markdown",
   "id": "68fbee0b",
   "metadata": {},
   "source": [
    "# Gradient Descent Algorithm"
   ]
  },
  {
   "cell_type": "code",
   "execution_count": 1,
   "id": "1b3199a2",
   "metadata": {},
   "outputs": [],
   "source": [
    "import math, copy\n",
    "import numpy as np\n",
    "import matplotlib.pyplot as plt"
   ]
  },
  {
   "cell_type": "code",
   "execution_count": 2,
   "id": "cd07e7e6",
   "metadata": {},
   "outputs": [],
   "source": [
    "x_train=[1, 2, 3, 4, 5]\n",
    "y_train=[1, 2, 3, 4, 5] "
   ]
  },
  {
   "cell_type": "code",
   "execution_count": 3,
   "id": "20ec1143",
   "metadata": {},
   "outputs": [],
   "source": [
    "def compute_cost(x, y, w, b):\n",
    "    \"\"\"\n",
    "        Compute the cost function\n",
    "    \"\"\"\n",
    "    m = len(x)\n",
    "    cost = 0.0\n",
    "\n",
    "    for i in range(m):\n",
    "        cost += (y[i] - (w * x[i] + b))**2\n",
    "\n",
    "    return cost/(2*m)"
   ]
  },
  {
   "cell_type": "code",
   "execution_count": 5,
   "id": "96eb65e7",
   "metadata": {},
   "outputs": [],
   "source": [
    "def compute_gradient(x, y, w, b):\n",
    "    \"\"\"\n",
    "    Computes the gradient for linear regression \n",
    "    Args:\n",
    "      x (ndarray (m,)): Data, m examples \n",
    "      y (ndarray (m,)): target values\n",
    "      w,b (scalar)    : model parameters  \n",
    "    Returns\n",
    "      dj_dw (scalar): The gradient of the cost w.r.t. the parameters w\n",
    "      dj_db (scalar): The gradient of the cost w.r.t. the parameter b     \n",
    "    \"\"\"\n",
    "\n",
    "    m = len(x)\n",
    "    dj_dw = 0\n",
    "    dj_db = 0\n",
    "\n",
    "    for i in range(m):\n",
    "        f_wb = w * x[i] + b\n",
    "        dj_dw_i = (f_wb - y[i]) * x[i]\n",
    "        dj_db_i = f_wb - y[i]\n",
    "        dj_dw += dj_dw_i\n",
    "        dj_db += dj_db_i\n",
    "\n",
    "    return dj_dw/m, dj_db/m"
   ]
  },
  {
   "cell_type": "code",
   "execution_count": 6,
   "id": "8ab054b1",
   "metadata": {},
   "outputs": [],
   "source": [
    "def gradient_descent(x, y, w_in, b_in, alpha, num_iters, cost_function, gradient_function):\n",
    "    \"\"\"\n",
    "    Performs gradient descent to fit w,b. Updates w,b by taking \n",
    "    num_iters gradient steps with learning rate alpha\n",
    "    \n",
    "    Args:\n",
    "      x (ndarray (m,))  : Data, m examples \n",
    "      y (ndarray (m,))  : target values\n",
    "      w_in,b_in (scalar): initial values of model parameters  \n",
    "      alpha (float):     Learning rate\n",
    "      num_iters (int):   number of iterations to run gradient descent\n",
    "      cost_function:     function to call to produce cost\n",
    "      gradient_function: function to call to produce gradient\n",
    "      \n",
    "    Returns:\n",
    "      w (scalar): Updated value of parameter after running gradient descent\n",
    "      b (scalar): Updated value of parameter after running gradient descent\n",
    "      J_history (List): History of cost values\n",
    "      p_history (list): History of parameters [w,b] \n",
    "      \"\"\"\n",
    "    \n",
    "    J_history = []\n",
    "    p_history = []\n",
    "    b = b_in\n",
    "    w = w_in\n",
    "\n",
    "    for i in range(num_iters):\n",
    "        dj_dw, dj_db = gradient_function(x, y, w, b)\n",
    "\n",
    "        b = b - alpha * dj_db\n",
    "        w = w - alpha * dj_dw\n",
    "\n",
    "        # Save cost J at each iteration\n",
    "        if i<100000:      # prevent resource exhaustion \n",
    "            J_history.append( cost_function(x, y, w , b))\n",
    "            p_history.append([w,b])\n",
    "\n",
    "        # Print cost every at intervals 10 times or as many iterations if < 10\n",
    "        if i% math.ceil(num_iters/10) == 0:\n",
    "            print(f\"Iteration {i:4}: Cost {J_history[-1]:0.2e} \",\n",
    "                  f\"dj_dw: {dj_dw: 0.3e}, dj_db: {dj_db: 0.3e}  \",\n",
    "                  f\"w: {w: 0.3e}, b:{b: 0.5e}\")\n",
    "\n",
    "    return w, b, J_history, p_history"
   ]
  },
  {
   "cell_type": "code",
   "execution_count": 12,
   "id": "fae23677",
   "metadata": {},
   "outputs": [
    {
     "name": "stdout",
     "output_type": "stream",
     "text": [
      "Iteration    0: Cost 4.28e+00  dj_dw: -1.100e+01, dj_db: -3.000e+00   w:  1.100e-01, b: 3.00000e-02\n",
      "Iteration  100: Cost 4.28e-03  dj_dw: -1.021e-02, dj_db:  3.671e-02   w:  9.399e-01, b: 2.16839e-01\n",
      "Iteration  200: Cost 3.05e-03  dj_dw: -8.587e-03, dj_db:  3.100e-02   w:  9.493e-01, b: 1.83088e-01\n",
      "Iteration  300: Cost 2.17e-03  dj_dw: -7.251e-03, dj_db:  2.618e-02   w:  9.572e-01, b: 1.54590e-01\n",
      "Iteration  400: Cost 1.55e-03  dj_dw: -6.122e-03, dj_db:  2.210e-02   w:  9.638e-01, b: 1.30527e-01\n",
      "Iteration  500: Cost 1.11e-03  dj_dw: -5.169e-03, dj_db:  1.866e-02   w:  9.695e-01, b: 1.10211e-01\n",
      "Iteration  600: Cost 7.88e-04  dj_dw: -4.365e-03, dj_db:  1.576e-02   w:  9.742e-01, b: 9.30560e-02\n",
      "Iteration  700: Cost 5.62e-04  dj_dw: -3.685e-03, dj_db:  1.330e-02   w:  9.782e-01, b: 7.85716e-02\n",
      "Iteration  800: Cost 4.01e-04  dj_dw: -3.112e-03, dj_db:  1.123e-02   w:  9.816e-01, b: 6.63417e-02\n",
      "Iteration  900: Cost 2.86e-04  dj_dw: -2.627e-03, dj_db:  9.485e-03   w:  9.845e-01, b: 5.60155e-02\n",
      "(w,b) found by gradient descent: (  0.9869,  0.0474)\n"
     ]
    }
   ],
   "source": [
    "w_init = 0\n",
    "b_init = 0\n",
    "\n",
    "\n",
    "iteration = 1000\n",
    "tmp_alpha = 1.0e-2\n",
    "\n",
    "w, b, J_history, p_history = gradient_descent(x_train, y_train, w_init, b_init, tmp_alpha, iteration, compute_cost, compute_gradient)\n",
    "\n",
    "print(f\"(w,b) found by gradient descent: ({w:8.4f},{b:8.4f})\")"
   ]
  },
  {
   "cell_type": "code",
   "execution_count": null,
   "id": "904ac63a",
   "metadata": {},
   "outputs": [],
   "source": []
  }
 ],
 "metadata": {
  "kernelspec": {
   "display_name": "Python 3",
   "language": "python",
   "name": "python3"
  },
  "language_info": {
   "codemirror_mode": {
    "name": "ipython",
    "version": 3
   },
   "file_extension": ".py",
   "mimetype": "text/x-python",
   "name": "python",
   "nbconvert_exporter": "python",
   "pygments_lexer": "ipython3",
   "version": "3.9.6"
  }
 },
 "nbformat": 4,
 "nbformat_minor": 5
}
