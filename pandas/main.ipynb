{
 "cells": [
  {
   "cell_type": "markdown",
   "id": "15dff993",
   "metadata": {},
   "source": [
    "# Key Data Structures in Pandas\n",
    "\n",
    "1. Series\n",
    "   - A one-dimensional labeled array capable of holding any data type.\n",
    "   - Can be created from a list, dictionary, or array.\n",
    "\n",
    "2. DataFrame\n",
    "   - A two-dimensional labeled data structure with columns of potentially different types.\n",
    "   - Can be thought of as a dictionary of Series.\n",
    "   - Created from a variety of inputs, including lists, dictionaries, and external files (CSV, Excel, etc.)."
   ]
  },
  {
   "cell_type": "code",
   "execution_count": 1,
   "id": "9e5e5bdd",
   "metadata": {},
   "outputs": [],
   "source": [
    "import pandas as pd"
   ]
  },
  {
   "cell_type": "code",
   "execution_count": 2,
   "id": "98cdd6a2",
   "metadata": {},
   "outputs": [],
   "source": [
    "s = pd.Series([1, 2, 3, 4, 5], index=['a', 'b', 'c', 'd', 'e'])"
   ]
  },
  {
   "cell_type": "code",
   "execution_count": 3,
   "id": "3d29606f",
   "metadata": {},
   "outputs": [
    {
     "data": {
      "application/vnd.microsoft.datawrangler.viewer.v0+json": {
       "columns": [
        {
         "name": "index",
         "rawType": "object",
         "type": "string"
        },
        {
         "name": "0",
         "rawType": "int64",
         "type": "integer"
        }
       ],
       "ref": "8f9b1feb-58ab-4201-b4e2-6a39567f9f04",
       "rows": [
        [
         "a",
         "1"
        ],
        [
         "b",
         "2"
        ],
        [
         "c",
         "3"
        ],
        [
         "d",
         "4"
        ],
        [
         "e",
         "5"
        ]
       ],
       "shape": {
        "columns": 1,
        "rows": 5
       }
      },
      "text/plain": [
       "a    1\n",
       "b    2\n",
       "c    3\n",
       "d    4\n",
       "e    5\n",
       "dtype: int64"
      ]
     },
     "execution_count": 3,
     "metadata": {},
     "output_type": "execute_result"
    }
   ],
   "source": [
    "s"
   ]
  },
  {
   "cell_type": "code",
   "execution_count": 4,
   "id": "b12094ad",
   "metadata": {},
   "outputs": [],
   "source": [
    "df = pd.DataFrame({'names': [\"harry\", \"sally\", \"john\", \"doe\"], 'marks': [85, 90, 78, 88]})"
   ]
  },
  {
   "cell_type": "code",
   "execution_count": 5,
   "id": "64b74c33",
   "metadata": {},
   "outputs": [
    {
     "data": {
      "application/vnd.microsoft.datawrangler.viewer.v0+json": {
       "columns": [
        {
         "name": "index",
         "rawType": "int64",
         "type": "integer"
        },
        {
         "name": "names",
         "rawType": "object",
         "type": "string"
        },
        {
         "name": "marks",
         "rawType": "int64",
         "type": "integer"
        }
       ],
       "ref": "b358fc9e-66fd-45c5-bdce-06ff10b20719",
       "rows": [
        [
         "0",
         "harry",
         "85"
        ],
        [
         "1",
         "sally",
         "90"
        ],
        [
         "2",
         "john",
         "78"
        ],
        [
         "3",
         "doe",
         "88"
        ]
       ],
       "shape": {
        "columns": 2,
        "rows": 4
       }
      },
      "text/html": [
       "<div>\n",
       "<style scoped>\n",
       "    .dataframe tbody tr th:only-of-type {\n",
       "        vertical-align: middle;\n",
       "    }\n",
       "\n",
       "    .dataframe tbody tr th {\n",
       "        vertical-align: top;\n",
       "    }\n",
       "\n",
       "    .dataframe thead th {\n",
       "        text-align: right;\n",
       "    }\n",
       "</style>\n",
       "<table border=\"1\" class=\"dataframe\">\n",
       "  <thead>\n",
       "    <tr style=\"text-align: right;\">\n",
       "      <th></th>\n",
       "      <th>names</th>\n",
       "      <th>marks</th>\n",
       "    </tr>\n",
       "  </thead>\n",
       "  <tbody>\n",
       "    <tr>\n",
       "      <th>0</th>\n",
       "      <td>harry</td>\n",
       "      <td>85</td>\n",
       "    </tr>\n",
       "    <tr>\n",
       "      <th>1</th>\n",
       "      <td>sally</td>\n",
       "      <td>90</td>\n",
       "    </tr>\n",
       "    <tr>\n",
       "      <th>2</th>\n",
       "      <td>john</td>\n",
       "      <td>78</td>\n",
       "    </tr>\n",
       "    <tr>\n",
       "      <th>3</th>\n",
       "      <td>doe</td>\n",
       "      <td>88</td>\n",
       "    </tr>\n",
       "  </tbody>\n",
       "</table>\n",
       "</div>"
      ],
      "text/plain": [
       "   names  marks\n",
       "0  harry     85\n",
       "1  sally     90\n",
       "2   john     78\n",
       "3    doe     88"
      ]
     },
     "execution_count": 5,
     "metadata": {},
     "output_type": "execute_result"
    }
   ],
   "source": [
    "df"
   ]
  },
  {
   "cell_type": "code",
   "execution_count": 6,
   "id": "49aa5322",
   "metadata": {},
   "outputs": [],
   "source": [
    "df = pd.read_csv('../data/iris.csv')"
   ]
  },
  {
   "cell_type": "code",
   "execution_count": 7,
   "id": "1e628e64",
   "metadata": {},
   "outputs": [
    {
     "data": {
      "application/vnd.microsoft.datawrangler.viewer.v0+json": {
       "columns": [
        {
         "name": "index",
         "rawType": "int64",
         "type": "integer"
        },
        {
         "name": "sepal.length",
         "rawType": "float64",
         "type": "float"
        },
        {
         "name": "sepal.width",
         "rawType": "float64",
         "type": "float"
        },
        {
         "name": "petal.length",
         "rawType": "float64",
         "type": "float"
        },
        {
         "name": "petal.width",
         "rawType": "float64",
         "type": "float"
        },
        {
         "name": "variety",
         "rawType": "object",
         "type": "string"
        }
       ],
       "ref": "4daf6018-209b-4c6f-9ca8-538c8081bcb6",
       "rows": [
        [
         "0",
         "5.1",
         "3.5",
         "1.4",
         "0.2",
         "Setosa"
        ],
        [
         "1",
         "4.9",
         "3.0",
         "1.4",
         "0.2",
         "Setosa"
        ],
        [
         "2",
         "4.7",
         "3.2",
         "1.3",
         "0.2",
         "Setosa"
        ],
        [
         "3",
         "4.6",
         "3.1",
         "1.5",
         "0.2",
         "Setosa"
        ],
        [
         "4",
         "5.0",
         "3.6",
         "1.4",
         "0.2",
         "Setosa"
        ],
        [
         "5",
         "5.4",
         "3.9",
         "1.7",
         "0.4",
         "Setosa"
        ],
        [
         "6",
         "4.6",
         "3.4",
         "1.4",
         "0.3",
         "Setosa"
        ],
        [
         "7",
         "5.0",
         "3.4",
         "1.5",
         "0.2",
         "Setosa"
        ],
        [
         "8",
         "4.4",
         "2.9",
         "1.4",
         "0.2",
         "Setosa"
        ],
        [
         "9",
         "4.9",
         "3.1",
         "1.5",
         "0.1",
         "Setosa"
        ],
        [
         "10",
         "5.4",
         "3.7",
         "1.5",
         "0.2",
         "Setosa"
        ],
        [
         "11",
         "4.8",
         "3.4",
         "1.6",
         "0.2",
         "Setosa"
        ],
        [
         "12",
         "4.8",
         "3.0",
         "1.4",
         "0.1",
         "Setosa"
        ],
        [
         "13",
         "4.3",
         "3.0",
         "1.1",
         "0.1",
         "Setosa"
        ],
        [
         "14",
         "5.8",
         "4.0",
         "1.2",
         "0.2",
         "Setosa"
        ],
        [
         "15",
         "5.7",
         "4.4",
         "1.5",
         "0.4",
         "Setosa"
        ],
        [
         "16",
         "5.4",
         "3.9",
         "1.3",
         "0.4",
         "Setosa"
        ],
        [
         "17",
         "5.1",
         "3.5",
         "1.4",
         "0.3",
         "Setosa"
        ],
        [
         "18",
         "5.7",
         "3.8",
         "1.7",
         "0.3",
         "Setosa"
        ],
        [
         "19",
         "5.1",
         "3.8",
         "1.5",
         "0.3",
         "Setosa"
        ],
        [
         "20",
         "5.4",
         "3.4",
         "1.7",
         "0.2",
         "Setosa"
        ],
        [
         "21",
         "5.1",
         "3.7",
         "1.5",
         "0.4",
         "Setosa"
        ],
        [
         "22",
         "4.6",
         "3.6",
         "1.0",
         "0.2",
         "Setosa"
        ],
        [
         "23",
         "5.1",
         "3.3",
         "1.7",
         "0.5",
         "Setosa"
        ],
        [
         "24",
         "4.8",
         "3.4",
         "1.9",
         "0.2",
         "Setosa"
        ],
        [
         "25",
         "5.0",
         "3.0",
         "1.6",
         "0.2",
         "Setosa"
        ],
        [
         "26",
         "5.0",
         "3.4",
         "1.6",
         "0.4",
         "Setosa"
        ],
        [
         "27",
         "5.2",
         "3.5",
         "1.5",
         "0.2",
         "Setosa"
        ],
        [
         "28",
         "5.2",
         "3.4",
         "1.4",
         "0.2",
         "Setosa"
        ],
        [
         "29",
         "4.7",
         "3.2",
         "1.6",
         "0.2",
         "Setosa"
        ],
        [
         "30",
         "4.8",
         "3.1",
         "1.6",
         "0.2",
         "Setosa"
        ],
        [
         "31",
         "5.4",
         "3.4",
         "1.5",
         "0.4",
         "Setosa"
        ],
        [
         "32",
         "5.2",
         "4.1",
         "1.5",
         "0.1",
         "Setosa"
        ],
        [
         "33",
         "5.5",
         "4.2",
         "1.4",
         "0.2",
         "Setosa"
        ],
        [
         "34",
         "4.9",
         "3.1",
         "1.5",
         "0.2",
         "Setosa"
        ],
        [
         "35",
         "5.0",
         "3.2",
         "1.2",
         "0.2",
         "Setosa"
        ],
        [
         "36",
         "5.5",
         "3.5",
         "1.3",
         "0.2",
         "Setosa"
        ],
        [
         "37",
         "4.9",
         "3.6",
         "1.4",
         "0.1",
         "Setosa"
        ],
        [
         "38",
         "4.4",
         "3.0",
         "1.3",
         "0.2",
         "Setosa"
        ],
        [
         "39",
         "5.1",
         "3.4",
         "1.5",
         "0.2",
         "Setosa"
        ],
        [
         "40",
         "5.0",
         "3.5",
         "1.3",
         "0.3",
         "Setosa"
        ],
        [
         "41",
         "4.5",
         "2.3",
         "1.3",
         "0.3",
         "Setosa"
        ],
        [
         "42",
         "4.4",
         "3.2",
         "1.3",
         "0.2",
         "Setosa"
        ],
        [
         "43",
         "5.0",
         "3.5",
         "1.6",
         "0.6",
         "Setosa"
        ],
        [
         "44",
         "5.1",
         "3.8",
         "1.9",
         "0.4",
         "Setosa"
        ],
        [
         "45",
         "4.8",
         "3.0",
         "1.4",
         "0.3",
         "Setosa"
        ],
        [
         "46",
         "5.1",
         "3.8",
         "1.6",
         "0.2",
         "Setosa"
        ],
        [
         "47",
         "4.6",
         "3.2",
         "1.4",
         "0.2",
         "Setosa"
        ],
        [
         "48",
         "5.3",
         "3.7",
         "1.5",
         "0.2",
         "Setosa"
        ],
        [
         "49",
         "5.0",
         "3.3",
         "1.4",
         "0.2",
         "Setosa"
        ]
       ],
       "shape": {
        "columns": 5,
        "rows": 150
       }
      },
      "text/html": [
       "<div>\n",
       "<style scoped>\n",
       "    .dataframe tbody tr th:only-of-type {\n",
       "        vertical-align: middle;\n",
       "    }\n",
       "\n",
       "    .dataframe tbody tr th {\n",
       "        vertical-align: top;\n",
       "    }\n",
       "\n",
       "    .dataframe thead th {\n",
       "        text-align: right;\n",
       "    }\n",
       "</style>\n",
       "<table border=\"1\" class=\"dataframe\">\n",
       "  <thead>\n",
       "    <tr style=\"text-align: right;\">\n",
       "      <th></th>\n",
       "      <th>sepal.length</th>\n",
       "      <th>sepal.width</th>\n",
       "      <th>petal.length</th>\n",
       "      <th>petal.width</th>\n",
       "      <th>variety</th>\n",
       "    </tr>\n",
       "  </thead>\n",
       "  <tbody>\n",
       "    <tr>\n",
       "      <th>0</th>\n",
       "      <td>5.1</td>\n",
       "      <td>3.5</td>\n",
       "      <td>1.4</td>\n",
       "      <td>0.2</td>\n",
       "      <td>Setosa</td>\n",
       "    </tr>\n",
       "    <tr>\n",
       "      <th>1</th>\n",
       "      <td>4.9</td>\n",
       "      <td>3.0</td>\n",
       "      <td>1.4</td>\n",
       "      <td>0.2</td>\n",
       "      <td>Setosa</td>\n",
       "    </tr>\n",
       "    <tr>\n",
       "      <th>2</th>\n",
       "      <td>4.7</td>\n",
       "      <td>3.2</td>\n",
       "      <td>1.3</td>\n",
       "      <td>0.2</td>\n",
       "      <td>Setosa</td>\n",
       "    </tr>\n",
       "    <tr>\n",
       "      <th>3</th>\n",
       "      <td>4.6</td>\n",
       "      <td>3.1</td>\n",
       "      <td>1.5</td>\n",
       "      <td>0.2</td>\n",
       "      <td>Setosa</td>\n",
       "    </tr>\n",
       "    <tr>\n",
       "      <th>4</th>\n",
       "      <td>5.0</td>\n",
       "      <td>3.6</td>\n",
       "      <td>1.4</td>\n",
       "      <td>0.2</td>\n",
       "      <td>Setosa</td>\n",
       "    </tr>\n",
       "    <tr>\n",
       "      <th>...</th>\n",
       "      <td>...</td>\n",
       "      <td>...</td>\n",
       "      <td>...</td>\n",
       "      <td>...</td>\n",
       "      <td>...</td>\n",
       "    </tr>\n",
       "    <tr>\n",
       "      <th>145</th>\n",
       "      <td>6.7</td>\n",
       "      <td>3.0</td>\n",
       "      <td>5.2</td>\n",
       "      <td>2.3</td>\n",
       "      <td>Virginica</td>\n",
       "    </tr>\n",
       "    <tr>\n",
       "      <th>146</th>\n",
       "      <td>6.3</td>\n",
       "      <td>2.5</td>\n",
       "      <td>5.0</td>\n",
       "      <td>1.9</td>\n",
       "      <td>Virginica</td>\n",
       "    </tr>\n",
       "    <tr>\n",
       "      <th>147</th>\n",
       "      <td>6.5</td>\n",
       "      <td>3.0</td>\n",
       "      <td>5.2</td>\n",
       "      <td>2.0</td>\n",
       "      <td>Virginica</td>\n",
       "    </tr>\n",
       "    <tr>\n",
       "      <th>148</th>\n",
       "      <td>6.2</td>\n",
       "      <td>3.4</td>\n",
       "      <td>5.4</td>\n",
       "      <td>2.3</td>\n",
       "      <td>Virginica</td>\n",
       "    </tr>\n",
       "    <tr>\n",
       "      <th>149</th>\n",
       "      <td>5.9</td>\n",
       "      <td>3.0</td>\n",
       "      <td>5.1</td>\n",
       "      <td>1.8</td>\n",
       "      <td>Virginica</td>\n",
       "    </tr>\n",
       "  </tbody>\n",
       "</table>\n",
       "<p>150 rows × 5 columns</p>\n",
       "</div>"
      ],
      "text/plain": [
       "     sepal.length  sepal.width  petal.length  petal.width    variety\n",
       "0             5.1          3.5           1.4          0.2     Setosa\n",
       "1             4.9          3.0           1.4          0.2     Setosa\n",
       "2             4.7          3.2           1.3          0.2     Setosa\n",
       "3             4.6          3.1           1.5          0.2     Setosa\n",
       "4             5.0          3.6           1.4          0.2     Setosa\n",
       "..            ...          ...           ...          ...        ...\n",
       "145           6.7          3.0           5.2          2.3  Virginica\n",
       "146           6.3          2.5           5.0          1.9  Virginica\n",
       "147           6.5          3.0           5.2          2.0  Virginica\n",
       "148           6.2          3.4           5.4          2.3  Virginica\n",
       "149           5.9          3.0           5.1          1.8  Virginica\n",
       "\n",
       "[150 rows x 5 columns]"
      ]
     },
     "execution_count": 7,
     "metadata": {},
     "output_type": "execute_result"
    }
   ],
   "source": [
    "df"
   ]
  },
  {
   "cell_type": "code",
   "execution_count": 8,
   "id": "82d80e8a",
   "metadata": {},
   "outputs": [
    {
     "data": {
      "application/vnd.microsoft.datawrangler.viewer.v0+json": {
       "columns": [
        {
         "name": "index",
         "rawType": "int64",
         "type": "integer"
        },
        {
         "name": "sepal.length",
         "rawType": "float64",
         "type": "float"
        },
        {
         "name": "sepal.width",
         "rawType": "float64",
         "type": "float"
        },
        {
         "name": "petal.length",
         "rawType": "float64",
         "type": "float"
        },
        {
         "name": "petal.width",
         "rawType": "float64",
         "type": "float"
        },
        {
         "name": "variety",
         "rawType": "object",
         "type": "string"
        }
       ],
       "ref": "c7b89357-34db-4b03-8675-49154bb1d179",
       "rows": [
        [
         "0",
         "5.1",
         "3.5",
         "1.4",
         "0.2",
         "Setosa"
        ],
        [
         "1",
         "4.9",
         "3.0",
         "1.4",
         "0.2",
         "Setosa"
        ],
        [
         "2",
         "4.7",
         "3.2",
         "1.3",
         "0.2",
         "Setosa"
        ],
        [
         "3",
         "4.6",
         "3.1",
         "1.5",
         "0.2",
         "Setosa"
        ],
        [
         "4",
         "5.0",
         "3.6",
         "1.4",
         "0.2",
         "Setosa"
        ]
       ],
       "shape": {
        "columns": 5,
        "rows": 5
       }
      },
      "text/html": [
       "<div>\n",
       "<style scoped>\n",
       "    .dataframe tbody tr th:only-of-type {\n",
       "        vertical-align: middle;\n",
       "    }\n",
       "\n",
       "    .dataframe tbody tr th {\n",
       "        vertical-align: top;\n",
       "    }\n",
       "\n",
       "    .dataframe thead th {\n",
       "        text-align: right;\n",
       "    }\n",
       "</style>\n",
       "<table border=\"1\" class=\"dataframe\">\n",
       "  <thead>\n",
       "    <tr style=\"text-align: right;\">\n",
       "      <th></th>\n",
       "      <th>sepal.length</th>\n",
       "      <th>sepal.width</th>\n",
       "      <th>petal.length</th>\n",
       "      <th>petal.width</th>\n",
       "      <th>variety</th>\n",
       "    </tr>\n",
       "  </thead>\n",
       "  <tbody>\n",
       "    <tr>\n",
       "      <th>0</th>\n",
       "      <td>5.1</td>\n",
       "      <td>3.5</td>\n",
       "      <td>1.4</td>\n",
       "      <td>0.2</td>\n",
       "      <td>Setosa</td>\n",
       "    </tr>\n",
       "    <tr>\n",
       "      <th>1</th>\n",
       "      <td>4.9</td>\n",
       "      <td>3.0</td>\n",
       "      <td>1.4</td>\n",
       "      <td>0.2</td>\n",
       "      <td>Setosa</td>\n",
       "    </tr>\n",
       "    <tr>\n",
       "      <th>2</th>\n",
       "      <td>4.7</td>\n",
       "      <td>3.2</td>\n",
       "      <td>1.3</td>\n",
       "      <td>0.2</td>\n",
       "      <td>Setosa</td>\n",
       "    </tr>\n",
       "    <tr>\n",
       "      <th>3</th>\n",
       "      <td>4.6</td>\n",
       "      <td>3.1</td>\n",
       "      <td>1.5</td>\n",
       "      <td>0.2</td>\n",
       "      <td>Setosa</td>\n",
       "    </tr>\n",
       "    <tr>\n",
       "      <th>4</th>\n",
       "      <td>5.0</td>\n",
       "      <td>3.6</td>\n",
       "      <td>1.4</td>\n",
       "      <td>0.2</td>\n",
       "      <td>Setosa</td>\n",
       "    </tr>\n",
       "  </tbody>\n",
       "</table>\n",
       "</div>"
      ],
      "text/plain": [
       "   sepal.length  sepal.width  petal.length  petal.width variety\n",
       "0           5.1          3.5           1.4          0.2  Setosa\n",
       "1           4.9          3.0           1.4          0.2  Setosa\n",
       "2           4.7          3.2           1.3          0.2  Setosa\n",
       "3           4.6          3.1           1.5          0.2  Setosa\n",
       "4           5.0          3.6           1.4          0.2  Setosa"
      ]
     },
     "execution_count": 8,
     "metadata": {},
     "output_type": "execute_result"
    }
   ],
   "source": [
    "df.head()"
   ]
  },
  {
   "cell_type": "code",
   "execution_count": 9,
   "id": "a93e0bf7",
   "metadata": {},
   "outputs": [
    {
     "data": {
      "application/vnd.microsoft.datawrangler.viewer.v0+json": {
       "columns": [
        {
         "name": "index",
         "rawType": "int64",
         "type": "integer"
        },
        {
         "name": "sepal.length",
         "rawType": "float64",
         "type": "float"
        },
        {
         "name": "sepal.width",
         "rawType": "float64",
         "type": "float"
        },
        {
         "name": "petal.length",
         "rawType": "float64",
         "type": "float"
        },
        {
         "name": "petal.width",
         "rawType": "float64",
         "type": "float"
        },
        {
         "name": "variety",
         "rawType": "object",
         "type": "string"
        }
       ],
       "ref": "da8854bb-d48e-4d64-a5e4-68dcd73493c5",
       "rows": [
        [
         "145",
         "6.7",
         "3.0",
         "5.2",
         "2.3",
         "Virginica"
        ],
        [
         "146",
         "6.3",
         "2.5",
         "5.0",
         "1.9",
         "Virginica"
        ],
        [
         "147",
         "6.5",
         "3.0",
         "5.2",
         "2.0",
         "Virginica"
        ],
        [
         "148",
         "6.2",
         "3.4",
         "5.4",
         "2.3",
         "Virginica"
        ],
        [
         "149",
         "5.9",
         "3.0",
         "5.1",
         "1.8",
         "Virginica"
        ]
       ],
       "shape": {
        "columns": 5,
        "rows": 5
       }
      },
      "text/html": [
       "<div>\n",
       "<style scoped>\n",
       "    .dataframe tbody tr th:only-of-type {\n",
       "        vertical-align: middle;\n",
       "    }\n",
       "\n",
       "    .dataframe tbody tr th {\n",
       "        vertical-align: top;\n",
       "    }\n",
       "\n",
       "    .dataframe thead th {\n",
       "        text-align: right;\n",
       "    }\n",
       "</style>\n",
       "<table border=\"1\" class=\"dataframe\">\n",
       "  <thead>\n",
       "    <tr style=\"text-align: right;\">\n",
       "      <th></th>\n",
       "      <th>sepal.length</th>\n",
       "      <th>sepal.width</th>\n",
       "      <th>petal.length</th>\n",
       "      <th>petal.width</th>\n",
       "      <th>variety</th>\n",
       "    </tr>\n",
       "  </thead>\n",
       "  <tbody>\n",
       "    <tr>\n",
       "      <th>145</th>\n",
       "      <td>6.7</td>\n",
       "      <td>3.0</td>\n",
       "      <td>5.2</td>\n",
       "      <td>2.3</td>\n",
       "      <td>Virginica</td>\n",
       "    </tr>\n",
       "    <tr>\n",
       "      <th>146</th>\n",
       "      <td>6.3</td>\n",
       "      <td>2.5</td>\n",
       "      <td>5.0</td>\n",
       "      <td>1.9</td>\n",
       "      <td>Virginica</td>\n",
       "    </tr>\n",
       "    <tr>\n",
       "      <th>147</th>\n",
       "      <td>6.5</td>\n",
       "      <td>3.0</td>\n",
       "      <td>5.2</td>\n",
       "      <td>2.0</td>\n",
       "      <td>Virginica</td>\n",
       "    </tr>\n",
       "    <tr>\n",
       "      <th>148</th>\n",
       "      <td>6.2</td>\n",
       "      <td>3.4</td>\n",
       "      <td>5.4</td>\n",
       "      <td>2.3</td>\n",
       "      <td>Virginica</td>\n",
       "    </tr>\n",
       "    <tr>\n",
       "      <th>149</th>\n",
       "      <td>5.9</td>\n",
       "      <td>3.0</td>\n",
       "      <td>5.1</td>\n",
       "      <td>1.8</td>\n",
       "      <td>Virginica</td>\n",
       "    </tr>\n",
       "  </tbody>\n",
       "</table>\n",
       "</div>"
      ],
      "text/plain": [
       "     sepal.length  sepal.width  petal.length  petal.width    variety\n",
       "145           6.7          3.0           5.2          2.3  Virginica\n",
       "146           6.3          2.5           5.0          1.9  Virginica\n",
       "147           6.5          3.0           5.2          2.0  Virginica\n",
       "148           6.2          3.4           5.4          2.3  Virginica\n",
       "149           5.9          3.0           5.1          1.8  Virginica"
      ]
     },
     "execution_count": 9,
     "metadata": {},
     "output_type": "execute_result"
    }
   ],
   "source": [
    "df.tail()"
   ]
  },
  {
   "cell_type": "code",
   "execution_count": 10,
   "id": "1f4b68dd",
   "metadata": {},
   "outputs": [
    {
     "data": {
      "application/vnd.microsoft.datawrangler.viewer.v0+json": {
       "columns": [
        {
         "name": "index",
         "rawType": "object",
         "type": "string"
        },
        {
         "name": "sepal.length",
         "rawType": "float64",
         "type": "float"
        },
        {
         "name": "sepal.width",
         "rawType": "float64",
         "type": "float"
        },
        {
         "name": "petal.length",
         "rawType": "float64",
         "type": "float"
        },
        {
         "name": "petal.width",
         "rawType": "float64",
         "type": "float"
        }
       ],
       "ref": "7bb1414a-34e3-400a-a2a3-206878b5378a",
       "rows": [
        [
         "count",
         "150.0",
         "150.0",
         "150.0",
         "150.0"
        ],
        [
         "mean",
         "5.843333333333334",
         "3.0573333333333337",
         "3.7580000000000005",
         "1.1993333333333336"
        ],
        [
         "std",
         "0.828066127977863",
         "0.4358662849366982",
         "1.7652982332594662",
         "0.7622376689603465"
        ],
        [
         "min",
         "4.3",
         "2.0",
         "1.0",
         "0.1"
        ],
        [
         "25%",
         "5.1",
         "2.8",
         "1.6",
         "0.3"
        ],
        [
         "50%",
         "5.8",
         "3.0",
         "4.35",
         "1.3"
        ],
        [
         "75%",
         "6.4",
         "3.3",
         "5.1",
         "1.8"
        ],
        [
         "max",
         "7.9",
         "4.4",
         "6.9",
         "2.5"
        ]
       ],
       "shape": {
        "columns": 4,
        "rows": 8
       }
      },
      "text/html": [
       "<div>\n",
       "<style scoped>\n",
       "    .dataframe tbody tr th:only-of-type {\n",
       "        vertical-align: middle;\n",
       "    }\n",
       "\n",
       "    .dataframe tbody tr th {\n",
       "        vertical-align: top;\n",
       "    }\n",
       "\n",
       "    .dataframe thead th {\n",
       "        text-align: right;\n",
       "    }\n",
       "</style>\n",
       "<table border=\"1\" class=\"dataframe\">\n",
       "  <thead>\n",
       "    <tr style=\"text-align: right;\">\n",
       "      <th></th>\n",
       "      <th>sepal.length</th>\n",
       "      <th>sepal.width</th>\n",
       "      <th>petal.length</th>\n",
       "      <th>petal.width</th>\n",
       "    </tr>\n",
       "  </thead>\n",
       "  <tbody>\n",
       "    <tr>\n",
       "      <th>count</th>\n",
       "      <td>150.000000</td>\n",
       "      <td>150.000000</td>\n",
       "      <td>150.000000</td>\n",
       "      <td>150.000000</td>\n",
       "    </tr>\n",
       "    <tr>\n",
       "      <th>mean</th>\n",
       "      <td>5.843333</td>\n",
       "      <td>3.057333</td>\n",
       "      <td>3.758000</td>\n",
       "      <td>1.199333</td>\n",
       "    </tr>\n",
       "    <tr>\n",
       "      <th>std</th>\n",
       "      <td>0.828066</td>\n",
       "      <td>0.435866</td>\n",
       "      <td>1.765298</td>\n",
       "      <td>0.762238</td>\n",
       "    </tr>\n",
       "    <tr>\n",
       "      <th>min</th>\n",
       "      <td>4.300000</td>\n",
       "      <td>2.000000</td>\n",
       "      <td>1.000000</td>\n",
       "      <td>0.100000</td>\n",
       "    </tr>\n",
       "    <tr>\n",
       "      <th>25%</th>\n",
       "      <td>5.100000</td>\n",
       "      <td>2.800000</td>\n",
       "      <td>1.600000</td>\n",
       "      <td>0.300000</td>\n",
       "    </tr>\n",
       "    <tr>\n",
       "      <th>50%</th>\n",
       "      <td>5.800000</td>\n",
       "      <td>3.000000</td>\n",
       "      <td>4.350000</td>\n",
       "      <td>1.300000</td>\n",
       "    </tr>\n",
       "    <tr>\n",
       "      <th>75%</th>\n",
       "      <td>6.400000</td>\n",
       "      <td>3.300000</td>\n",
       "      <td>5.100000</td>\n",
       "      <td>1.800000</td>\n",
       "    </tr>\n",
       "    <tr>\n",
       "      <th>max</th>\n",
       "      <td>7.900000</td>\n",
       "      <td>4.400000</td>\n",
       "      <td>6.900000</td>\n",
       "      <td>2.500000</td>\n",
       "    </tr>\n",
       "  </tbody>\n",
       "</table>\n",
       "</div>"
      ],
      "text/plain": [
       "       sepal.length  sepal.width  petal.length  petal.width\n",
       "count    150.000000   150.000000    150.000000   150.000000\n",
       "mean       5.843333     3.057333      3.758000     1.199333\n",
       "std        0.828066     0.435866      1.765298     0.762238\n",
       "min        4.300000     2.000000      1.000000     0.100000\n",
       "25%        5.100000     2.800000      1.600000     0.300000\n",
       "50%        5.800000     3.000000      4.350000     1.300000\n",
       "75%        6.400000     3.300000      5.100000     1.800000\n",
       "max        7.900000     4.400000      6.900000     2.500000"
      ]
     },
     "execution_count": 10,
     "metadata": {},
     "output_type": "execute_result"
    }
   ],
   "source": [
    "df.describe()"
   ]
  },
  {
   "cell_type": "code",
   "execution_count": 11,
   "id": "552ccdec",
   "metadata": {},
   "outputs": [
    {
     "name": "stdout",
     "output_type": "stream",
     "text": [
      "<class 'pandas.core.frame.DataFrame'>\n",
      "RangeIndex: 150 entries, 0 to 149\n",
      "Data columns (total 5 columns):\n",
      " #   Column        Non-Null Count  Dtype  \n",
      "---  ------        --------------  -----  \n",
      " 0   sepal.length  150 non-null    float64\n",
      " 1   sepal.width   150 non-null    float64\n",
      " 2   petal.length  150 non-null    float64\n",
      " 3   petal.width   150 non-null    float64\n",
      " 4   variety       150 non-null    object \n",
      "dtypes: float64(4), object(1)\n",
      "memory usage: 6.0+ KB\n"
     ]
    }
   ],
   "source": [
    "df.info()"
   ]
  },
  {
   "cell_type": "markdown",
   "id": "2319fd61",
   "metadata": {},
   "source": [
    "# Data Selection"
   ]
  },
  {
   "cell_type": "code",
   "execution_count": 12,
   "id": "6164d45b",
   "metadata": {},
   "outputs": [
    {
     "data": {
      "application/vnd.microsoft.datawrangler.viewer.v0+json": {
       "columns": [
        {
         "name": "index",
         "rawType": "int64",
         "type": "integer"
        },
        {
         "name": "sepal.length",
         "rawType": "float64",
         "type": "float"
        }
       ],
       "ref": "56d8f352-e1de-4076-ac7e-e86c6bebc4ad",
       "rows": [
        [
         "0",
         "5.1"
        ],
        [
         "1",
         "4.9"
        ],
        [
         "2",
         "4.7"
        ],
        [
         "3",
         "4.6"
        ],
        [
         "4",
         "5.0"
        ],
        [
         "5",
         "5.4"
        ],
        [
         "6",
         "4.6"
        ],
        [
         "7",
         "5.0"
        ],
        [
         "8",
         "4.4"
        ],
        [
         "9",
         "4.9"
        ],
        [
         "10",
         "5.4"
        ],
        [
         "11",
         "4.8"
        ],
        [
         "12",
         "4.8"
        ],
        [
         "13",
         "4.3"
        ],
        [
         "14",
         "5.8"
        ],
        [
         "15",
         "5.7"
        ],
        [
         "16",
         "5.4"
        ],
        [
         "17",
         "5.1"
        ],
        [
         "18",
         "5.7"
        ],
        [
         "19",
         "5.1"
        ],
        [
         "20",
         "5.4"
        ],
        [
         "21",
         "5.1"
        ],
        [
         "22",
         "4.6"
        ],
        [
         "23",
         "5.1"
        ],
        [
         "24",
         "4.8"
        ],
        [
         "25",
         "5.0"
        ],
        [
         "26",
         "5.0"
        ],
        [
         "27",
         "5.2"
        ],
        [
         "28",
         "5.2"
        ],
        [
         "29",
         "4.7"
        ],
        [
         "30",
         "4.8"
        ],
        [
         "31",
         "5.4"
        ],
        [
         "32",
         "5.2"
        ],
        [
         "33",
         "5.5"
        ],
        [
         "34",
         "4.9"
        ],
        [
         "35",
         "5.0"
        ],
        [
         "36",
         "5.5"
        ],
        [
         "37",
         "4.9"
        ],
        [
         "38",
         "4.4"
        ],
        [
         "39",
         "5.1"
        ],
        [
         "40",
         "5.0"
        ],
        [
         "41",
         "4.5"
        ],
        [
         "42",
         "4.4"
        ],
        [
         "43",
         "5.0"
        ],
        [
         "44",
         "5.1"
        ],
        [
         "45",
         "4.8"
        ],
        [
         "46",
         "5.1"
        ],
        [
         "47",
         "4.6"
        ],
        [
         "48",
         "5.3"
        ],
        [
         "49",
         "5.0"
        ]
       ],
       "shape": {
        "columns": 1,
        "rows": 150
       }
      },
      "text/html": [
       "<div>\n",
       "<style scoped>\n",
       "    .dataframe tbody tr th:only-of-type {\n",
       "        vertical-align: middle;\n",
       "    }\n",
       "\n",
       "    .dataframe tbody tr th {\n",
       "        vertical-align: top;\n",
       "    }\n",
       "\n",
       "    .dataframe thead th {\n",
       "        text-align: right;\n",
       "    }\n",
       "</style>\n",
       "<table border=\"1\" class=\"dataframe\">\n",
       "  <thead>\n",
       "    <tr style=\"text-align: right;\">\n",
       "      <th></th>\n",
       "      <th>sepal.length</th>\n",
       "    </tr>\n",
       "  </thead>\n",
       "  <tbody>\n",
       "    <tr>\n",
       "      <th>0</th>\n",
       "      <td>5.1</td>\n",
       "    </tr>\n",
       "    <tr>\n",
       "      <th>1</th>\n",
       "      <td>4.9</td>\n",
       "    </tr>\n",
       "    <tr>\n",
       "      <th>2</th>\n",
       "      <td>4.7</td>\n",
       "    </tr>\n",
       "    <tr>\n",
       "      <th>3</th>\n",
       "      <td>4.6</td>\n",
       "    </tr>\n",
       "    <tr>\n",
       "      <th>4</th>\n",
       "      <td>5.0</td>\n",
       "    </tr>\n",
       "    <tr>\n",
       "      <th>...</th>\n",
       "      <td>...</td>\n",
       "    </tr>\n",
       "    <tr>\n",
       "      <th>145</th>\n",
       "      <td>6.7</td>\n",
       "    </tr>\n",
       "    <tr>\n",
       "      <th>146</th>\n",
       "      <td>6.3</td>\n",
       "    </tr>\n",
       "    <tr>\n",
       "      <th>147</th>\n",
       "      <td>6.5</td>\n",
       "    </tr>\n",
       "    <tr>\n",
       "      <th>148</th>\n",
       "      <td>6.2</td>\n",
       "    </tr>\n",
       "    <tr>\n",
       "      <th>149</th>\n",
       "      <td>5.9</td>\n",
       "    </tr>\n",
       "  </tbody>\n",
       "</table>\n",
       "<p>150 rows × 1 columns</p>\n",
       "</div>"
      ],
      "text/plain": [
       "     sepal.length\n",
       "0             5.1\n",
       "1             4.9\n",
       "2             4.7\n",
       "3             4.6\n",
       "4             5.0\n",
       "..            ...\n",
       "145           6.7\n",
       "146           6.3\n",
       "147           6.5\n",
       "148           6.2\n",
       "149           5.9\n",
       "\n",
       "[150 rows x 1 columns]"
      ]
     },
     "execution_count": 12,
     "metadata": {},
     "output_type": "execute_result"
    }
   ],
   "source": [
    "df[[\"sepal.length\"]]"
   ]
  },
  {
   "cell_type": "code",
   "execution_count": 13,
   "id": "5cd1d5a3",
   "metadata": {},
   "outputs": [
    {
     "data": {
      "application/vnd.microsoft.datawrangler.viewer.v0+json": {
       "columns": [
        {
         "name": "index",
         "rawType": "int64",
         "type": "integer"
        },
        {
         "name": "sepal.length",
         "rawType": "float64",
         "type": "float"
        },
        {
         "name": "sepal.width",
         "rawType": "float64",
         "type": "float"
        }
       ],
       "ref": "264fcdca-644e-40cd-94bb-a884079a4823",
       "rows": [
        [
         "0",
         "5.1",
         "3.5"
        ],
        [
         "1",
         "4.9",
         "3.0"
        ],
        [
         "2",
         "4.7",
         "3.2"
        ],
        [
         "3",
         "4.6",
         "3.1"
        ],
        [
         "4",
         "5.0",
         "3.6"
        ],
        [
         "5",
         "5.4",
         "3.9"
        ],
        [
         "6",
         "4.6",
         "3.4"
        ],
        [
         "7",
         "5.0",
         "3.4"
        ],
        [
         "8",
         "4.4",
         "2.9"
        ],
        [
         "9",
         "4.9",
         "3.1"
        ],
        [
         "10",
         "5.4",
         "3.7"
        ],
        [
         "11",
         "4.8",
         "3.4"
        ],
        [
         "12",
         "4.8",
         "3.0"
        ],
        [
         "13",
         "4.3",
         "3.0"
        ],
        [
         "14",
         "5.8",
         "4.0"
        ],
        [
         "15",
         "5.7",
         "4.4"
        ],
        [
         "16",
         "5.4",
         "3.9"
        ],
        [
         "17",
         "5.1",
         "3.5"
        ],
        [
         "18",
         "5.7",
         "3.8"
        ],
        [
         "19",
         "5.1",
         "3.8"
        ],
        [
         "20",
         "5.4",
         "3.4"
        ],
        [
         "21",
         "5.1",
         "3.7"
        ],
        [
         "22",
         "4.6",
         "3.6"
        ],
        [
         "23",
         "5.1",
         "3.3"
        ],
        [
         "24",
         "4.8",
         "3.4"
        ],
        [
         "25",
         "5.0",
         "3.0"
        ],
        [
         "26",
         "5.0",
         "3.4"
        ],
        [
         "27",
         "5.2",
         "3.5"
        ],
        [
         "28",
         "5.2",
         "3.4"
        ],
        [
         "29",
         "4.7",
         "3.2"
        ],
        [
         "30",
         "4.8",
         "3.1"
        ],
        [
         "31",
         "5.4",
         "3.4"
        ],
        [
         "32",
         "5.2",
         "4.1"
        ],
        [
         "33",
         "5.5",
         "4.2"
        ],
        [
         "34",
         "4.9",
         "3.1"
        ],
        [
         "35",
         "5.0",
         "3.2"
        ],
        [
         "36",
         "5.5",
         "3.5"
        ],
        [
         "37",
         "4.9",
         "3.6"
        ],
        [
         "38",
         "4.4",
         "3.0"
        ],
        [
         "39",
         "5.1",
         "3.4"
        ],
        [
         "40",
         "5.0",
         "3.5"
        ],
        [
         "41",
         "4.5",
         "2.3"
        ],
        [
         "42",
         "4.4",
         "3.2"
        ],
        [
         "43",
         "5.0",
         "3.5"
        ],
        [
         "44",
         "5.1",
         "3.8"
        ],
        [
         "45",
         "4.8",
         "3.0"
        ],
        [
         "46",
         "5.1",
         "3.8"
        ],
        [
         "47",
         "4.6",
         "3.2"
        ],
        [
         "48",
         "5.3",
         "3.7"
        ],
        [
         "49",
         "5.0",
         "3.3"
        ]
       ],
       "shape": {
        "columns": 2,
        "rows": 150
       }
      },
      "text/html": [
       "<div>\n",
       "<style scoped>\n",
       "    .dataframe tbody tr th:only-of-type {\n",
       "        vertical-align: middle;\n",
       "    }\n",
       "\n",
       "    .dataframe tbody tr th {\n",
       "        vertical-align: top;\n",
       "    }\n",
       "\n",
       "    .dataframe thead th {\n",
       "        text-align: right;\n",
       "    }\n",
       "</style>\n",
       "<table border=\"1\" class=\"dataframe\">\n",
       "  <thead>\n",
       "    <tr style=\"text-align: right;\">\n",
       "      <th></th>\n",
       "      <th>sepal.length</th>\n",
       "      <th>sepal.width</th>\n",
       "    </tr>\n",
       "  </thead>\n",
       "  <tbody>\n",
       "    <tr>\n",
       "      <th>0</th>\n",
       "      <td>5.1</td>\n",
       "      <td>3.5</td>\n",
       "    </tr>\n",
       "    <tr>\n",
       "      <th>1</th>\n",
       "      <td>4.9</td>\n",
       "      <td>3.0</td>\n",
       "    </tr>\n",
       "    <tr>\n",
       "      <th>2</th>\n",
       "      <td>4.7</td>\n",
       "      <td>3.2</td>\n",
       "    </tr>\n",
       "    <tr>\n",
       "      <th>3</th>\n",
       "      <td>4.6</td>\n",
       "      <td>3.1</td>\n",
       "    </tr>\n",
       "    <tr>\n",
       "      <th>4</th>\n",
       "      <td>5.0</td>\n",
       "      <td>3.6</td>\n",
       "    </tr>\n",
       "    <tr>\n",
       "      <th>...</th>\n",
       "      <td>...</td>\n",
       "      <td>...</td>\n",
       "    </tr>\n",
       "    <tr>\n",
       "      <th>145</th>\n",
       "      <td>6.7</td>\n",
       "      <td>3.0</td>\n",
       "    </tr>\n",
       "    <tr>\n",
       "      <th>146</th>\n",
       "      <td>6.3</td>\n",
       "      <td>2.5</td>\n",
       "    </tr>\n",
       "    <tr>\n",
       "      <th>147</th>\n",
       "      <td>6.5</td>\n",
       "      <td>3.0</td>\n",
       "    </tr>\n",
       "    <tr>\n",
       "      <th>148</th>\n",
       "      <td>6.2</td>\n",
       "      <td>3.4</td>\n",
       "    </tr>\n",
       "    <tr>\n",
       "      <th>149</th>\n",
       "      <td>5.9</td>\n",
       "      <td>3.0</td>\n",
       "    </tr>\n",
       "  </tbody>\n",
       "</table>\n",
       "<p>150 rows × 2 columns</p>\n",
       "</div>"
      ],
      "text/plain": [
       "     sepal.length  sepal.width\n",
       "0             5.1          3.5\n",
       "1             4.9          3.0\n",
       "2             4.7          3.2\n",
       "3             4.6          3.1\n",
       "4             5.0          3.6\n",
       "..            ...          ...\n",
       "145           6.7          3.0\n",
       "146           6.3          2.5\n",
       "147           6.5          3.0\n",
       "148           6.2          3.4\n",
       "149           5.9          3.0\n",
       "\n",
       "[150 rows x 2 columns]"
      ]
     },
     "execution_count": 13,
     "metadata": {},
     "output_type": "execute_result"
    }
   ],
   "source": [
    "df[[\"sepal.length\", \"sepal.width\"]]"
   ]
  },
  {
   "cell_type": "code",
   "execution_count": 14,
   "id": "061c8666",
   "metadata": {},
   "outputs": [
    {
     "data": {
      "application/vnd.microsoft.datawrangler.viewer.v0+json": {
       "columns": [
        {
         "name": "index",
         "rawType": "object",
         "type": "string"
        },
        {
         "name": "1",
         "rawType": "object",
         "type": "unknown"
        }
       ],
       "ref": "e7f39a45-93fe-438b-a2b4-f9fa201bc9c4",
       "rows": [
        [
         "sepal.length",
         "4.9"
        ],
        [
         "sepal.width",
         "3.0"
        ],
        [
         "petal.length",
         "1.4"
        ],
        [
         "petal.width",
         "0.2"
        ],
        [
         "variety",
         "Setosa"
        ]
       ],
       "shape": {
        "columns": 1,
        "rows": 5
       }
      },
      "text/plain": [
       "sepal.length       4.9\n",
       "sepal.width        3.0\n",
       "petal.length       1.4\n",
       "petal.width        0.2\n",
       "variety         Setosa\n",
       "Name: 1, dtype: object"
      ]
     },
     "execution_count": 14,
     "metadata": {},
     "output_type": "execute_result"
    }
   ],
   "source": [
    "df.iloc[1]"
   ]
  },
  {
   "cell_type": "code",
   "execution_count": 15,
   "id": "88ac6353",
   "metadata": {},
   "outputs": [],
   "source": [
    "df2 = pd.read_csv('../data/data.csv')"
   ]
  },
  {
   "cell_type": "code",
   "execution_count": 16,
   "id": "a916c631",
   "metadata": {},
   "outputs": [
    {
     "data": {
      "application/vnd.microsoft.datawrangler.viewer.v0+json": {
       "columns": [
        {
         "name": "index",
         "rawType": "int64",
         "type": "integer"
        },
        {
         "name": "sepal.length",
         "rawType": "float64",
         "type": "float"
        },
        {
         "name": "sepal.width",
         "rawType": "float64",
         "type": "float"
        },
        {
         "name": "petal.length",
         "rawType": "float64",
         "type": "float"
        },
        {
         "name": "petal.width",
         "rawType": "float64",
         "type": "float"
        },
        {
         "name": "variety",
         "rawType": "object",
         "type": "unknown"
        }
       ],
       "ref": "458effae-c414-49b0-8896-a0ece71ac348",
       "rows": [
        [
         "0",
         "5.1",
         "3.5",
         "1.4",
         "0.2",
         "Setosa"
        ],
        [
         "1",
         "4.9",
         "3.0",
         "1.4",
         "0.2",
         "Setosa"
        ],
        [
         "2",
         "4.7",
         "3.2",
         "1.3",
         "0.2",
         "Setosa"
        ],
        [
         "3",
         "4.6",
         null,
         "1.5",
         "0.2",
         "Setosa"
        ],
        [
         "4",
         "5.0",
         "3.6",
         "1.4",
         "0.2",
         "Setosa"
        ],
        [
         "5",
         "5.4",
         "3.9",
         "1.7",
         "0.4",
         null
        ],
        [
         "6",
         "4.6",
         "3.4",
         null,
         "0.3",
         "Setosa"
        ],
        [
         "7",
         "5.0",
         "3.4",
         "1.5",
         "0.2",
         "Setosa"
        ],
        [
         "8",
         "4.4",
         null,
         "1.4",
         "0.2",
         "Setosa"
        ],
        [
         "9",
         "4.9",
         "3.1",
         "1.5",
         "0.1",
         "Setosa"
        ],
        [
         "10",
         "5.4",
         "3.7",
         "1.5",
         "0.2",
         "Setosa"
        ],
        [
         "11",
         "4.8",
         "3.4",
         "1.6",
         "0.2",
         "Setosa"
        ],
        [
         "12",
         null,
         "3.0",
         "1.4",
         "0.1",
         "Setosa"
        ],
        [
         "13",
         "4.3",
         "3.0",
         "1.1",
         "0.1",
         "Setosa"
        ],
        [
         "14",
         "5.8",
         "4.0",
         "1.2",
         "0.2",
         "Setosa"
        ],
        [
         "15",
         "5.7",
         "4.4",
         "1.5",
         "0.4",
         null
        ],
        [
         "16",
         "5.4",
         "3.9",
         "1.3",
         "0.4",
         "Setosa"
        ],
        [
         "17",
         "5.1",
         "3.5",
         "1.4",
         "0.3",
         "Setosa"
        ],
        [
         "18",
         null,
         "3.8",
         "1.7",
         "0.3",
         "Setosa"
        ],
        [
         "19",
         "5.1",
         "3.8",
         null,
         "0.3",
         null
        ],
        [
         "20",
         "5.4",
         "3.4",
         "1.7",
         "0.2",
         "Setosa"
        ],
        [
         "21",
         null,
         "3.7",
         "1.5",
         "0.4",
         "Setosa"
        ],
        [
         "22",
         "4.6",
         "3.6",
         "1.0",
         "0.2",
         "Setosa"
        ],
        [
         "23",
         "5.1",
         "3.3",
         "1.7",
         "0.5",
         null
        ],
        [
         "24",
         "4.8",
         "3.4",
         null,
         "0.2",
         "Setosa"
        ],
        [
         "25",
         "5.0",
         null,
         "1.6",
         "0.2",
         "Setosa"
        ],
        [
         "26",
         "5.0",
         "3.4",
         "1.6",
         "0.4",
         null
        ],
        [
         "27",
         "5.2",
         "3.5",
         "1.5",
         "0.2",
         "Setosa"
        ],
        [
         "28",
         "5.2",
         "3.4",
         "1.4",
         "0.2",
         "Setosa"
        ],
        [
         "29",
         null,
         "3.2",
         "1.6",
         "0.2",
         null
        ],
        [
         "30",
         "4.8",
         "3.1",
         "1.6",
         "0.2",
         "Setosa"
        ],
        [
         "31",
         "5.4",
         "3.4",
         "1.5",
         "0.4",
         "Setosa"
        ],
        [
         "32",
         "5.2",
         "4.1",
         "1.5",
         "0.1",
         "Setosa"
        ],
        [
         "33",
         "5.5",
         "4.2",
         "1.4",
         "0.2",
         "Setosa"
        ],
        [
         "34",
         "4.9",
         "3.1",
         "1.5",
         "0.2",
         "Setosa"
        ],
        [
         "35",
         "5.0",
         "3.2",
         "1.2",
         "0.2",
         "Setosa"
        ],
        [
         "36",
         "5.5",
         "3.5",
         "1.3",
         "0.2",
         "Setosa"
        ],
        [
         "37",
         "4.9",
         "3.6",
         "1.4",
         "0.1",
         "Setosa"
        ],
        [
         "38",
         "4.4",
         "3.0",
         "1.3",
         "0.2",
         "Setosa"
        ],
        [
         "39",
         "5.1",
         "3.4",
         "1.5",
         "0.2",
         "Setosa"
        ],
        [
         "40",
         "5.0",
         "3.5",
         "1.3",
         "0.3",
         "Setosa"
        ],
        [
         "41",
         "4.5",
         "2.3",
         "1.3",
         "0.3",
         "Setosa"
        ],
        [
         "42",
         "4.4",
         "3.2",
         "1.3",
         "0.2",
         "Setosa"
        ],
        [
         "43",
         "5.0",
         "3.5",
         "1.6",
         "0.6",
         "Setosa"
        ],
        [
         "44",
         "5.1",
         "3.8",
         "1.9",
         "0.4",
         "Setosa"
        ],
        [
         "45",
         "4.8",
         "3.0",
         "1.4",
         "0.3",
         "Setosa"
        ],
        [
         "46",
         "5.1",
         "3.8",
         "1.6",
         "0.2",
         "Setosa"
        ],
        [
         "47",
         "4.6",
         "3.2",
         "1.4",
         "0.2",
         "Setosa"
        ],
        [
         "48",
         "5.3",
         "3.7",
         "1.5",
         "0.2",
         "Setosa"
        ],
        [
         "49",
         "5.0",
         "3.3",
         "1.4",
         "0.2",
         "Setosa"
        ]
       ],
       "shape": {
        "columns": 5,
        "rows": 150
       }
      },
      "text/html": [
       "<div>\n",
       "<style scoped>\n",
       "    .dataframe tbody tr th:only-of-type {\n",
       "        vertical-align: middle;\n",
       "    }\n",
       "\n",
       "    .dataframe tbody tr th {\n",
       "        vertical-align: top;\n",
       "    }\n",
       "\n",
       "    .dataframe thead th {\n",
       "        text-align: right;\n",
       "    }\n",
       "</style>\n",
       "<table border=\"1\" class=\"dataframe\">\n",
       "  <thead>\n",
       "    <tr style=\"text-align: right;\">\n",
       "      <th></th>\n",
       "      <th>sepal.length</th>\n",
       "      <th>sepal.width</th>\n",
       "      <th>petal.length</th>\n",
       "      <th>petal.width</th>\n",
       "      <th>variety</th>\n",
       "    </tr>\n",
       "  </thead>\n",
       "  <tbody>\n",
       "    <tr>\n",
       "      <th>0</th>\n",
       "      <td>5.1</td>\n",
       "      <td>3.5</td>\n",
       "      <td>1.4</td>\n",
       "      <td>0.2</td>\n",
       "      <td>Setosa</td>\n",
       "    </tr>\n",
       "    <tr>\n",
       "      <th>1</th>\n",
       "      <td>4.9</td>\n",
       "      <td>3.0</td>\n",
       "      <td>1.4</td>\n",
       "      <td>0.2</td>\n",
       "      <td>Setosa</td>\n",
       "    </tr>\n",
       "    <tr>\n",
       "      <th>2</th>\n",
       "      <td>4.7</td>\n",
       "      <td>3.2</td>\n",
       "      <td>1.3</td>\n",
       "      <td>0.2</td>\n",
       "      <td>Setosa</td>\n",
       "    </tr>\n",
       "    <tr>\n",
       "      <th>3</th>\n",
       "      <td>4.6</td>\n",
       "      <td>NaN</td>\n",
       "      <td>1.5</td>\n",
       "      <td>0.2</td>\n",
       "      <td>Setosa</td>\n",
       "    </tr>\n",
       "    <tr>\n",
       "      <th>4</th>\n",
       "      <td>5.0</td>\n",
       "      <td>3.6</td>\n",
       "      <td>1.4</td>\n",
       "      <td>0.2</td>\n",
       "      <td>Setosa</td>\n",
       "    </tr>\n",
       "    <tr>\n",
       "      <th>...</th>\n",
       "      <td>...</td>\n",
       "      <td>...</td>\n",
       "      <td>...</td>\n",
       "      <td>...</td>\n",
       "      <td>...</td>\n",
       "    </tr>\n",
       "    <tr>\n",
       "      <th>145</th>\n",
       "      <td>6.7</td>\n",
       "      <td>3.0</td>\n",
       "      <td>5.2</td>\n",
       "      <td>2.3</td>\n",
       "      <td>Virginica</td>\n",
       "    </tr>\n",
       "    <tr>\n",
       "      <th>146</th>\n",
       "      <td>6.3</td>\n",
       "      <td>2.5</td>\n",
       "      <td>5.0</td>\n",
       "      <td>1.9</td>\n",
       "      <td>Virginica</td>\n",
       "    </tr>\n",
       "    <tr>\n",
       "      <th>147</th>\n",
       "      <td>6.5</td>\n",
       "      <td>3.0</td>\n",
       "      <td>5.2</td>\n",
       "      <td>2.0</td>\n",
       "      <td>Virginica</td>\n",
       "    </tr>\n",
       "    <tr>\n",
       "      <th>148</th>\n",
       "      <td>6.2</td>\n",
       "      <td>3.4</td>\n",
       "      <td>5.4</td>\n",
       "      <td>2.3</td>\n",
       "      <td>Virginica</td>\n",
       "    </tr>\n",
       "    <tr>\n",
       "      <th>149</th>\n",
       "      <td>5.9</td>\n",
       "      <td>3.0</td>\n",
       "      <td>5.1</td>\n",
       "      <td>1.8</td>\n",
       "      <td>Virginica</td>\n",
       "    </tr>\n",
       "  </tbody>\n",
       "</table>\n",
       "<p>150 rows × 5 columns</p>\n",
       "</div>"
      ],
      "text/plain": [
       "     sepal.length  sepal.width  petal.length  petal.width    variety\n",
       "0             5.1          3.5           1.4          0.2     Setosa\n",
       "1             4.9          3.0           1.4          0.2     Setosa\n",
       "2             4.7          3.2           1.3          0.2     Setosa\n",
       "3             4.6          NaN           1.5          0.2     Setosa\n",
       "4             5.0          3.6           1.4          0.2     Setosa\n",
       "..            ...          ...           ...          ...        ...\n",
       "145           6.7          3.0           5.2          2.3  Virginica\n",
       "146           6.3          2.5           5.0          1.9  Virginica\n",
       "147           6.5          3.0           5.2          2.0  Virginica\n",
       "148           6.2          3.4           5.4          2.3  Virginica\n",
       "149           5.9          3.0           5.1          1.8  Virginica\n",
       "\n",
       "[150 rows x 5 columns]"
      ]
     },
     "execution_count": 16,
     "metadata": {},
     "output_type": "execute_result"
    }
   ],
   "source": [
    "df2"
   ]
  },
  {
   "cell_type": "code",
   "execution_count": 17,
   "id": "cbb84b35",
   "metadata": {},
   "outputs": [
    {
     "data": {
      "application/vnd.microsoft.datawrangler.viewer.v0+json": {
       "columns": [
        {
         "name": "index",
         "rawType": "int64",
         "type": "integer"
        },
        {
         "name": "sepal.length",
         "rawType": "float64",
         "type": "float"
        },
        {
         "name": "sepal.width",
         "rawType": "float64",
         "type": "float"
        },
        {
         "name": "petal.length",
         "rawType": "float64",
         "type": "float"
        },
        {
         "name": "petal.width",
         "rawType": "float64",
         "type": "float"
        },
        {
         "name": "variety",
         "rawType": "object",
         "type": "string"
        }
       ],
       "ref": "073f61df-9075-4369-959a-c8d0926c6356",
       "rows": [
        [
         "0",
         "5.1",
         "3.5",
         "1.4",
         "0.2",
         "Setosa"
        ],
        [
         "1",
         "4.9",
         "3.0",
         "1.4",
         "0.2",
         "Setosa"
        ],
        [
         "2",
         "4.7",
         "3.2",
         "1.3",
         "0.2",
         "Setosa"
        ],
        [
         "3",
         "4.6",
         null,
         "1.5",
         "0.2",
         "Setosa"
        ],
        [
         "4",
         "5.0",
         "3.6",
         "1.4",
         "0.2",
         "Setosa"
        ]
       ],
       "shape": {
        "columns": 5,
        "rows": 5
       }
      },
      "text/html": [
       "<div>\n",
       "<style scoped>\n",
       "    .dataframe tbody tr th:only-of-type {\n",
       "        vertical-align: middle;\n",
       "    }\n",
       "\n",
       "    .dataframe tbody tr th {\n",
       "        vertical-align: top;\n",
       "    }\n",
       "\n",
       "    .dataframe thead th {\n",
       "        text-align: right;\n",
       "    }\n",
       "</style>\n",
       "<table border=\"1\" class=\"dataframe\">\n",
       "  <thead>\n",
       "    <tr style=\"text-align: right;\">\n",
       "      <th></th>\n",
       "      <th>sepal.length</th>\n",
       "      <th>sepal.width</th>\n",
       "      <th>petal.length</th>\n",
       "      <th>petal.width</th>\n",
       "      <th>variety</th>\n",
       "    </tr>\n",
       "  </thead>\n",
       "  <tbody>\n",
       "    <tr>\n",
       "      <th>0</th>\n",
       "      <td>5.1</td>\n",
       "      <td>3.5</td>\n",
       "      <td>1.4</td>\n",
       "      <td>0.2</td>\n",
       "      <td>Setosa</td>\n",
       "    </tr>\n",
       "    <tr>\n",
       "      <th>1</th>\n",
       "      <td>4.9</td>\n",
       "      <td>3.0</td>\n",
       "      <td>1.4</td>\n",
       "      <td>0.2</td>\n",
       "      <td>Setosa</td>\n",
       "    </tr>\n",
       "    <tr>\n",
       "      <th>2</th>\n",
       "      <td>4.7</td>\n",
       "      <td>3.2</td>\n",
       "      <td>1.3</td>\n",
       "      <td>0.2</td>\n",
       "      <td>Setosa</td>\n",
       "    </tr>\n",
       "    <tr>\n",
       "      <th>3</th>\n",
       "      <td>4.6</td>\n",
       "      <td>NaN</td>\n",
       "      <td>1.5</td>\n",
       "      <td>0.2</td>\n",
       "      <td>Setosa</td>\n",
       "    </tr>\n",
       "    <tr>\n",
       "      <th>4</th>\n",
       "      <td>5.0</td>\n",
       "      <td>3.6</td>\n",
       "      <td>1.4</td>\n",
       "      <td>0.2</td>\n",
       "      <td>Setosa</td>\n",
       "    </tr>\n",
       "  </tbody>\n",
       "</table>\n",
       "</div>"
      ],
      "text/plain": [
       "   sepal.length  sepal.width  petal.length  petal.width variety\n",
       "0           5.1          3.5           1.4          0.2  Setosa\n",
       "1           4.9          3.0           1.4          0.2  Setosa\n",
       "2           4.7          3.2           1.3          0.2  Setosa\n",
       "3           4.6          NaN           1.5          0.2  Setosa\n",
       "4           5.0          3.6           1.4          0.2  Setosa"
      ]
     },
     "execution_count": 17,
     "metadata": {},
     "output_type": "execute_result"
    }
   ],
   "source": [
    "df2.head()"
   ]
  },
  {
   "cell_type": "code",
   "execution_count": 18,
   "id": "ece269c4",
   "metadata": {},
   "outputs": [
    {
     "data": {
      "application/vnd.microsoft.datawrangler.viewer.v0+json": {
       "columns": [
        {
         "name": "index",
         "rawType": "int64",
         "type": "integer"
        },
        {
         "name": "sepal.length",
         "rawType": "float64",
         "type": "float"
        },
        {
         "name": "sepal.width",
         "rawType": "float64",
         "type": "float"
        },
        {
         "name": "petal.length",
         "rawType": "float64",
         "type": "float"
        },
        {
         "name": "petal.width",
         "rawType": "float64",
         "type": "float"
        },
        {
         "name": "variety",
         "rawType": "object",
         "type": "string"
        }
       ],
       "ref": "019892a7-8369-4c6a-9241-1eb9e1572aaf",
       "rows": [
        [
         "0",
         "5.1",
         "3.5",
         "1.4",
         "0.2",
         "Setosa"
        ],
        [
         "1",
         "4.9",
         "3.0",
         "1.4",
         "0.2",
         "Setosa"
        ],
        [
         "2",
         "4.7",
         "3.2",
         "1.3",
         "0.2",
         "Setosa"
        ],
        [
         "4",
         "5.0",
         "3.6",
         "1.4",
         "0.2",
         "Setosa"
        ],
        [
         "7",
         "5.0",
         "3.4",
         "1.5",
         "0.2",
         "Setosa"
        ],
        [
         "9",
         "4.9",
         "3.1",
         "1.5",
         "0.1",
         "Setosa"
        ],
        [
         "10",
         "5.4",
         "3.7",
         "1.5",
         "0.2",
         "Setosa"
        ],
        [
         "11",
         "4.8",
         "3.4",
         "1.6",
         "0.2",
         "Setosa"
        ],
        [
         "13",
         "4.3",
         "3.0",
         "1.1",
         "0.1",
         "Setosa"
        ],
        [
         "14",
         "5.8",
         "4.0",
         "1.2",
         "0.2",
         "Setosa"
        ],
        [
         "16",
         "5.4",
         "3.9",
         "1.3",
         "0.4",
         "Setosa"
        ],
        [
         "17",
         "5.1",
         "3.5",
         "1.4",
         "0.3",
         "Setosa"
        ],
        [
         "20",
         "5.4",
         "3.4",
         "1.7",
         "0.2",
         "Setosa"
        ],
        [
         "22",
         "4.6",
         "3.6",
         "1.0",
         "0.2",
         "Setosa"
        ],
        [
         "27",
         "5.2",
         "3.5",
         "1.5",
         "0.2",
         "Setosa"
        ],
        [
         "28",
         "5.2",
         "3.4",
         "1.4",
         "0.2",
         "Setosa"
        ],
        [
         "30",
         "4.8",
         "3.1",
         "1.6",
         "0.2",
         "Setosa"
        ],
        [
         "31",
         "5.4",
         "3.4",
         "1.5",
         "0.4",
         "Setosa"
        ],
        [
         "32",
         "5.2",
         "4.1",
         "1.5",
         "0.1",
         "Setosa"
        ],
        [
         "33",
         "5.5",
         "4.2",
         "1.4",
         "0.2",
         "Setosa"
        ],
        [
         "34",
         "4.9",
         "3.1",
         "1.5",
         "0.2",
         "Setosa"
        ],
        [
         "35",
         "5.0",
         "3.2",
         "1.2",
         "0.2",
         "Setosa"
        ],
        [
         "36",
         "5.5",
         "3.5",
         "1.3",
         "0.2",
         "Setosa"
        ],
        [
         "37",
         "4.9",
         "3.6",
         "1.4",
         "0.1",
         "Setosa"
        ],
        [
         "38",
         "4.4",
         "3.0",
         "1.3",
         "0.2",
         "Setosa"
        ],
        [
         "39",
         "5.1",
         "3.4",
         "1.5",
         "0.2",
         "Setosa"
        ],
        [
         "40",
         "5.0",
         "3.5",
         "1.3",
         "0.3",
         "Setosa"
        ],
        [
         "41",
         "4.5",
         "2.3",
         "1.3",
         "0.3",
         "Setosa"
        ],
        [
         "42",
         "4.4",
         "3.2",
         "1.3",
         "0.2",
         "Setosa"
        ],
        [
         "43",
         "5.0",
         "3.5",
         "1.6",
         "0.6",
         "Setosa"
        ],
        [
         "44",
         "5.1",
         "3.8",
         "1.9",
         "0.4",
         "Setosa"
        ],
        [
         "45",
         "4.8",
         "3.0",
         "1.4",
         "0.3",
         "Setosa"
        ],
        [
         "46",
         "5.1",
         "3.8",
         "1.6",
         "0.2",
         "Setosa"
        ],
        [
         "47",
         "4.6",
         "3.2",
         "1.4",
         "0.2",
         "Setosa"
        ],
        [
         "48",
         "5.3",
         "3.7",
         "1.5",
         "0.2",
         "Setosa"
        ],
        [
         "49",
         "5.0",
         "3.3",
         "1.4",
         "0.2",
         "Setosa"
        ],
        [
         "50",
         "7.0",
         "3.2",
         "4.7",
         "1.4",
         "Versicolor"
        ],
        [
         "51",
         "6.4",
         "3.2",
         "4.5",
         "1.5",
         "Versicolor"
        ],
        [
         "52",
         "6.9",
         "3.1",
         "4.9",
         "1.5",
         "Versicolor"
        ],
        [
         "53",
         "5.5",
         "2.3",
         "4.0",
         "1.3",
         "Versicolor"
        ],
        [
         "54",
         "6.5",
         "2.8",
         "4.6",
         "1.5",
         "Versicolor"
        ],
        [
         "55",
         "5.7",
         "2.8",
         "4.5",
         "1.3",
         "Versicolor"
        ],
        [
         "56",
         "6.3",
         "3.3",
         "4.7",
         "1.6",
         "Versicolor"
        ],
        [
         "57",
         "4.9",
         "2.4",
         "3.3",
         "1.0",
         "Versicolor"
        ],
        [
         "58",
         "6.6",
         "2.9",
         "4.6",
         "1.3",
         "Versicolor"
        ],
        [
         "59",
         "5.2",
         "2.7",
         "3.9",
         "1.4",
         "Versicolor"
        ],
        [
         "60",
         "5.0",
         "2.0",
         "3.5",
         "1.0",
         "Versicolor"
        ],
        [
         "61",
         "5.9",
         "3.0",
         "4.2",
         "1.5",
         "Versicolor"
        ],
        [
         "62",
         "6.0",
         "2.2",
         "4.0",
         "1.0",
         "Versicolor"
        ],
        [
         "63",
         "6.1",
         "2.9",
         "4.7",
         "1.4",
         "Versicolor"
        ]
       ],
       "shape": {
        "columns": 5,
        "rows": 136
       }
      },
      "text/html": [
       "<div>\n",
       "<style scoped>\n",
       "    .dataframe tbody tr th:only-of-type {\n",
       "        vertical-align: middle;\n",
       "    }\n",
       "\n",
       "    .dataframe tbody tr th {\n",
       "        vertical-align: top;\n",
       "    }\n",
       "\n",
       "    .dataframe thead th {\n",
       "        text-align: right;\n",
       "    }\n",
       "</style>\n",
       "<table border=\"1\" class=\"dataframe\">\n",
       "  <thead>\n",
       "    <tr style=\"text-align: right;\">\n",
       "      <th></th>\n",
       "      <th>sepal.length</th>\n",
       "      <th>sepal.width</th>\n",
       "      <th>petal.length</th>\n",
       "      <th>petal.width</th>\n",
       "      <th>variety</th>\n",
       "    </tr>\n",
       "  </thead>\n",
       "  <tbody>\n",
       "    <tr>\n",
       "      <th>0</th>\n",
       "      <td>5.1</td>\n",
       "      <td>3.5</td>\n",
       "      <td>1.4</td>\n",
       "      <td>0.2</td>\n",
       "      <td>Setosa</td>\n",
       "    </tr>\n",
       "    <tr>\n",
       "      <th>1</th>\n",
       "      <td>4.9</td>\n",
       "      <td>3.0</td>\n",
       "      <td>1.4</td>\n",
       "      <td>0.2</td>\n",
       "      <td>Setosa</td>\n",
       "    </tr>\n",
       "    <tr>\n",
       "      <th>2</th>\n",
       "      <td>4.7</td>\n",
       "      <td>3.2</td>\n",
       "      <td>1.3</td>\n",
       "      <td>0.2</td>\n",
       "      <td>Setosa</td>\n",
       "    </tr>\n",
       "    <tr>\n",
       "      <th>4</th>\n",
       "      <td>5.0</td>\n",
       "      <td>3.6</td>\n",
       "      <td>1.4</td>\n",
       "      <td>0.2</td>\n",
       "      <td>Setosa</td>\n",
       "    </tr>\n",
       "    <tr>\n",
       "      <th>7</th>\n",
       "      <td>5.0</td>\n",
       "      <td>3.4</td>\n",
       "      <td>1.5</td>\n",
       "      <td>0.2</td>\n",
       "      <td>Setosa</td>\n",
       "    </tr>\n",
       "    <tr>\n",
       "      <th>...</th>\n",
       "      <td>...</td>\n",
       "      <td>...</td>\n",
       "      <td>...</td>\n",
       "      <td>...</td>\n",
       "      <td>...</td>\n",
       "    </tr>\n",
       "    <tr>\n",
       "      <th>145</th>\n",
       "      <td>6.7</td>\n",
       "      <td>3.0</td>\n",
       "      <td>5.2</td>\n",
       "      <td>2.3</td>\n",
       "      <td>Virginica</td>\n",
       "    </tr>\n",
       "    <tr>\n",
       "      <th>146</th>\n",
       "      <td>6.3</td>\n",
       "      <td>2.5</td>\n",
       "      <td>5.0</td>\n",
       "      <td>1.9</td>\n",
       "      <td>Virginica</td>\n",
       "    </tr>\n",
       "    <tr>\n",
       "      <th>147</th>\n",
       "      <td>6.5</td>\n",
       "      <td>3.0</td>\n",
       "      <td>5.2</td>\n",
       "      <td>2.0</td>\n",
       "      <td>Virginica</td>\n",
       "    </tr>\n",
       "    <tr>\n",
       "      <th>148</th>\n",
       "      <td>6.2</td>\n",
       "      <td>3.4</td>\n",
       "      <td>5.4</td>\n",
       "      <td>2.3</td>\n",
       "      <td>Virginica</td>\n",
       "    </tr>\n",
       "    <tr>\n",
       "      <th>149</th>\n",
       "      <td>5.9</td>\n",
       "      <td>3.0</td>\n",
       "      <td>5.1</td>\n",
       "      <td>1.8</td>\n",
       "      <td>Virginica</td>\n",
       "    </tr>\n",
       "  </tbody>\n",
       "</table>\n",
       "<p>136 rows × 5 columns</p>\n",
       "</div>"
      ],
      "text/plain": [
       "     sepal.length  sepal.width  petal.length  petal.width    variety\n",
       "0             5.1          3.5           1.4          0.2     Setosa\n",
       "1             4.9          3.0           1.4          0.2     Setosa\n",
       "2             4.7          3.2           1.3          0.2     Setosa\n",
       "4             5.0          3.6           1.4          0.2     Setosa\n",
       "7             5.0          3.4           1.5          0.2     Setosa\n",
       "..            ...          ...           ...          ...        ...\n",
       "145           6.7          3.0           5.2          2.3  Virginica\n",
       "146           6.3          2.5           5.0          1.9  Virginica\n",
       "147           6.5          3.0           5.2          2.0  Virginica\n",
       "148           6.2          3.4           5.4          2.3  Virginica\n",
       "149           5.9          3.0           5.1          1.8  Virginica\n",
       "\n",
       "[136 rows x 5 columns]"
      ]
     },
     "execution_count": 18,
     "metadata": {},
     "output_type": "execute_result"
    }
   ],
   "source": [
    "df2.dropna()"
   ]
  },
  {
   "cell_type": "code",
   "execution_count": 19,
   "id": "f8c60318",
   "metadata": {},
   "outputs": [
    {
     "data": {
      "application/vnd.microsoft.datawrangler.viewer.v0+json": {
       "columns": [
        {
         "name": "index",
         "rawType": "int64",
         "type": "integer"
        },
        {
         "name": "sepal.length",
         "rawType": "float64",
         "type": "float"
        },
        {
         "name": "sepal.width",
         "rawType": "float64",
         "type": "float"
        },
        {
         "name": "petal.length",
         "rawType": "float64",
         "type": "float"
        },
        {
         "name": "petal.width",
         "rawType": "float64",
         "type": "float"
        },
        {
         "name": "variety",
         "rawType": "object",
         "type": "unknown"
        }
       ],
       "ref": "8eb9cba8-a3c1-47ee-9846-7b79aa0c7209",
       "rows": [
        [
         "0",
         "5.1",
         "3.5",
         "1.4",
         "0.2",
         "Setosa"
        ],
        [
         "1",
         "4.9",
         "3.0",
         "1.4",
         "0.2",
         "Setosa"
        ],
        [
         "2",
         "4.7",
         "3.2",
         "1.3",
         "0.2",
         "Setosa"
        ],
        [
         "3",
         "4.6",
         "0.0",
         "1.5",
         "0.2",
         "Setosa"
        ],
        [
         "4",
         "5.0",
         "3.6",
         "1.4",
         "0.2",
         "Setosa"
        ],
        [
         "5",
         "5.4",
         "3.9",
         "1.7",
         "0.4",
         "0"
        ],
        [
         "6",
         "4.6",
         "3.4",
         "0.0",
         "0.3",
         "Setosa"
        ],
        [
         "7",
         "5.0",
         "3.4",
         "1.5",
         "0.2",
         "Setosa"
        ],
        [
         "8",
         "4.4",
         "0.0",
         "1.4",
         "0.2",
         "Setosa"
        ],
        [
         "9",
         "4.9",
         "3.1",
         "1.5",
         "0.1",
         "Setosa"
        ],
        [
         "10",
         "5.4",
         "3.7",
         "1.5",
         "0.2",
         "Setosa"
        ],
        [
         "11",
         "4.8",
         "3.4",
         "1.6",
         "0.2",
         "Setosa"
        ],
        [
         "12",
         "0.0",
         "3.0",
         "1.4",
         "0.1",
         "Setosa"
        ],
        [
         "13",
         "4.3",
         "3.0",
         "1.1",
         "0.1",
         "Setosa"
        ],
        [
         "14",
         "5.8",
         "4.0",
         "1.2",
         "0.2",
         "Setosa"
        ],
        [
         "15",
         "5.7",
         "4.4",
         "1.5",
         "0.4",
         "0"
        ],
        [
         "16",
         "5.4",
         "3.9",
         "1.3",
         "0.4",
         "Setosa"
        ],
        [
         "17",
         "5.1",
         "3.5",
         "1.4",
         "0.3",
         "Setosa"
        ],
        [
         "18",
         "0.0",
         "3.8",
         "1.7",
         "0.3",
         "Setosa"
        ],
        [
         "19",
         "5.1",
         "3.8",
         "0.0",
         "0.3",
         "0"
        ],
        [
         "20",
         "5.4",
         "3.4",
         "1.7",
         "0.2",
         "Setosa"
        ],
        [
         "21",
         "0.0",
         "3.7",
         "1.5",
         "0.4",
         "Setosa"
        ],
        [
         "22",
         "4.6",
         "3.6",
         "1.0",
         "0.2",
         "Setosa"
        ],
        [
         "23",
         "5.1",
         "3.3",
         "1.7",
         "0.5",
         "0"
        ],
        [
         "24",
         "4.8",
         "3.4",
         "0.0",
         "0.2",
         "Setosa"
        ],
        [
         "25",
         "5.0",
         "0.0",
         "1.6",
         "0.2",
         "Setosa"
        ],
        [
         "26",
         "5.0",
         "3.4",
         "1.6",
         "0.4",
         "0"
        ],
        [
         "27",
         "5.2",
         "3.5",
         "1.5",
         "0.2",
         "Setosa"
        ],
        [
         "28",
         "5.2",
         "3.4",
         "1.4",
         "0.2",
         "Setosa"
        ],
        [
         "29",
         "0.0",
         "3.2",
         "1.6",
         "0.2",
         "0"
        ],
        [
         "30",
         "4.8",
         "3.1",
         "1.6",
         "0.2",
         "Setosa"
        ],
        [
         "31",
         "5.4",
         "3.4",
         "1.5",
         "0.4",
         "Setosa"
        ],
        [
         "32",
         "5.2",
         "4.1",
         "1.5",
         "0.1",
         "Setosa"
        ],
        [
         "33",
         "5.5",
         "4.2",
         "1.4",
         "0.2",
         "Setosa"
        ],
        [
         "34",
         "4.9",
         "3.1",
         "1.5",
         "0.2",
         "Setosa"
        ],
        [
         "35",
         "5.0",
         "3.2",
         "1.2",
         "0.2",
         "Setosa"
        ],
        [
         "36",
         "5.5",
         "3.5",
         "1.3",
         "0.2",
         "Setosa"
        ],
        [
         "37",
         "4.9",
         "3.6",
         "1.4",
         "0.1",
         "Setosa"
        ],
        [
         "38",
         "4.4",
         "3.0",
         "1.3",
         "0.2",
         "Setosa"
        ],
        [
         "39",
         "5.1",
         "3.4",
         "1.5",
         "0.2",
         "Setosa"
        ],
        [
         "40",
         "5.0",
         "3.5",
         "1.3",
         "0.3",
         "Setosa"
        ],
        [
         "41",
         "4.5",
         "2.3",
         "1.3",
         "0.3",
         "Setosa"
        ],
        [
         "42",
         "4.4",
         "3.2",
         "1.3",
         "0.2",
         "Setosa"
        ],
        [
         "43",
         "5.0",
         "3.5",
         "1.6",
         "0.6",
         "Setosa"
        ],
        [
         "44",
         "5.1",
         "3.8",
         "1.9",
         "0.4",
         "Setosa"
        ],
        [
         "45",
         "4.8",
         "3.0",
         "1.4",
         "0.3",
         "Setosa"
        ],
        [
         "46",
         "5.1",
         "3.8",
         "1.6",
         "0.2",
         "Setosa"
        ],
        [
         "47",
         "4.6",
         "3.2",
         "1.4",
         "0.2",
         "Setosa"
        ],
        [
         "48",
         "5.3",
         "3.7",
         "1.5",
         "0.2",
         "Setosa"
        ],
        [
         "49",
         "5.0",
         "3.3",
         "1.4",
         "0.2",
         "Setosa"
        ]
       ],
       "shape": {
        "columns": 5,
        "rows": 150
       }
      },
      "text/html": [
       "<div>\n",
       "<style scoped>\n",
       "    .dataframe tbody tr th:only-of-type {\n",
       "        vertical-align: middle;\n",
       "    }\n",
       "\n",
       "    .dataframe tbody tr th {\n",
       "        vertical-align: top;\n",
       "    }\n",
       "\n",
       "    .dataframe thead th {\n",
       "        text-align: right;\n",
       "    }\n",
       "</style>\n",
       "<table border=\"1\" class=\"dataframe\">\n",
       "  <thead>\n",
       "    <tr style=\"text-align: right;\">\n",
       "      <th></th>\n",
       "      <th>sepal.length</th>\n",
       "      <th>sepal.width</th>\n",
       "      <th>petal.length</th>\n",
       "      <th>petal.width</th>\n",
       "      <th>variety</th>\n",
       "    </tr>\n",
       "  </thead>\n",
       "  <tbody>\n",
       "    <tr>\n",
       "      <th>0</th>\n",
       "      <td>5.1</td>\n",
       "      <td>3.5</td>\n",
       "      <td>1.4</td>\n",
       "      <td>0.2</td>\n",
       "      <td>Setosa</td>\n",
       "    </tr>\n",
       "    <tr>\n",
       "      <th>1</th>\n",
       "      <td>4.9</td>\n",
       "      <td>3.0</td>\n",
       "      <td>1.4</td>\n",
       "      <td>0.2</td>\n",
       "      <td>Setosa</td>\n",
       "    </tr>\n",
       "    <tr>\n",
       "      <th>2</th>\n",
       "      <td>4.7</td>\n",
       "      <td>3.2</td>\n",
       "      <td>1.3</td>\n",
       "      <td>0.2</td>\n",
       "      <td>Setosa</td>\n",
       "    </tr>\n",
       "    <tr>\n",
       "      <th>3</th>\n",
       "      <td>4.6</td>\n",
       "      <td>0.0</td>\n",
       "      <td>1.5</td>\n",
       "      <td>0.2</td>\n",
       "      <td>Setosa</td>\n",
       "    </tr>\n",
       "    <tr>\n",
       "      <th>4</th>\n",
       "      <td>5.0</td>\n",
       "      <td>3.6</td>\n",
       "      <td>1.4</td>\n",
       "      <td>0.2</td>\n",
       "      <td>Setosa</td>\n",
       "    </tr>\n",
       "    <tr>\n",
       "      <th>...</th>\n",
       "      <td>...</td>\n",
       "      <td>...</td>\n",
       "      <td>...</td>\n",
       "      <td>...</td>\n",
       "      <td>...</td>\n",
       "    </tr>\n",
       "    <tr>\n",
       "      <th>145</th>\n",
       "      <td>6.7</td>\n",
       "      <td>3.0</td>\n",
       "      <td>5.2</td>\n",
       "      <td>2.3</td>\n",
       "      <td>Virginica</td>\n",
       "    </tr>\n",
       "    <tr>\n",
       "      <th>146</th>\n",
       "      <td>6.3</td>\n",
       "      <td>2.5</td>\n",
       "      <td>5.0</td>\n",
       "      <td>1.9</td>\n",
       "      <td>Virginica</td>\n",
       "    </tr>\n",
       "    <tr>\n",
       "      <th>147</th>\n",
       "      <td>6.5</td>\n",
       "      <td>3.0</td>\n",
       "      <td>5.2</td>\n",
       "      <td>2.0</td>\n",
       "      <td>Virginica</td>\n",
       "    </tr>\n",
       "    <tr>\n",
       "      <th>148</th>\n",
       "      <td>6.2</td>\n",
       "      <td>3.4</td>\n",
       "      <td>5.4</td>\n",
       "      <td>2.3</td>\n",
       "      <td>Virginica</td>\n",
       "    </tr>\n",
       "    <tr>\n",
       "      <th>149</th>\n",
       "      <td>5.9</td>\n",
       "      <td>3.0</td>\n",
       "      <td>5.1</td>\n",
       "      <td>1.8</td>\n",
       "      <td>Virginica</td>\n",
       "    </tr>\n",
       "  </tbody>\n",
       "</table>\n",
       "<p>150 rows × 5 columns</p>\n",
       "</div>"
      ],
      "text/plain": [
       "     sepal.length  sepal.width  petal.length  petal.width    variety\n",
       "0             5.1          3.5           1.4          0.2     Setosa\n",
       "1             4.9          3.0           1.4          0.2     Setosa\n",
       "2             4.7          3.2           1.3          0.2     Setosa\n",
       "3             4.6          0.0           1.5          0.2     Setosa\n",
       "4             5.0          3.6           1.4          0.2     Setosa\n",
       "..            ...          ...           ...          ...        ...\n",
       "145           6.7          3.0           5.2          2.3  Virginica\n",
       "146           6.3          2.5           5.0          1.9  Virginica\n",
       "147           6.5          3.0           5.2          2.0  Virginica\n",
       "148           6.2          3.4           5.4          2.3  Virginica\n",
       "149           5.9          3.0           5.1          1.8  Virginica\n",
       "\n",
       "[150 rows x 5 columns]"
      ]
     },
     "execution_count": 19,
     "metadata": {},
     "output_type": "execute_result"
    }
   ],
   "source": [
    "df2.fillna(0)"
   ]
  },
  {
   "cell_type": "code",
   "execution_count": 20,
   "id": "e983c0d4",
   "metadata": {},
   "outputs": [
    {
     "data": {
      "application/vnd.microsoft.datawrangler.viewer.v0+json": {
       "columns": [
        {
         "name": "index",
         "rawType": "int64",
         "type": "integer"
        },
        {
         "name": "sl",
         "rawType": "float64",
         "type": "float"
        },
        {
         "name": "sw",
         "rawType": "float64",
         "type": "float"
        },
        {
         "name": "petal.length",
         "rawType": "float64",
         "type": "float"
        },
        {
         "name": "petal.width",
         "rawType": "float64",
         "type": "float"
        },
        {
         "name": "variety",
         "rawType": "object",
         "type": "unknown"
        }
       ],
       "ref": "31ef530e-1653-4f5f-a9ac-231d0788affc",
       "rows": [
        [
         "0",
         "5.1",
         "3.5",
         "1.4",
         "0.2",
         "Setosa"
        ],
        [
         "1",
         "4.9",
         "3.0",
         "1.4",
         "0.2",
         "Setosa"
        ],
        [
         "2",
         "4.7",
         "3.2",
         "1.3",
         "0.2",
         "Setosa"
        ],
        [
         "3",
         "4.6",
         null,
         "1.5",
         "0.2",
         "Setosa"
        ],
        [
         "4",
         "5.0",
         "3.6",
         "1.4",
         "0.2",
         "Setosa"
        ],
        [
         "5",
         "5.4",
         "3.9",
         "1.7",
         "0.4",
         null
        ],
        [
         "6",
         "4.6",
         "3.4",
         null,
         "0.3",
         "Setosa"
        ],
        [
         "7",
         "5.0",
         "3.4",
         "1.5",
         "0.2",
         "Setosa"
        ],
        [
         "8",
         "4.4",
         null,
         "1.4",
         "0.2",
         "Setosa"
        ],
        [
         "9",
         "4.9",
         "3.1",
         "1.5",
         "0.1",
         "Setosa"
        ],
        [
         "10",
         "5.4",
         "3.7",
         "1.5",
         "0.2",
         "Setosa"
        ],
        [
         "11",
         "4.8",
         "3.4",
         "1.6",
         "0.2",
         "Setosa"
        ],
        [
         "12",
         null,
         "3.0",
         "1.4",
         "0.1",
         "Setosa"
        ],
        [
         "13",
         "4.3",
         "3.0",
         "1.1",
         "0.1",
         "Setosa"
        ],
        [
         "14",
         "5.8",
         "4.0",
         "1.2",
         "0.2",
         "Setosa"
        ],
        [
         "15",
         "5.7",
         "4.4",
         "1.5",
         "0.4",
         null
        ],
        [
         "16",
         "5.4",
         "3.9",
         "1.3",
         "0.4",
         "Setosa"
        ],
        [
         "17",
         "5.1",
         "3.5",
         "1.4",
         "0.3",
         "Setosa"
        ],
        [
         "18",
         null,
         "3.8",
         "1.7",
         "0.3",
         "Setosa"
        ],
        [
         "19",
         "5.1",
         "3.8",
         null,
         "0.3",
         null
        ],
        [
         "20",
         "5.4",
         "3.4",
         "1.7",
         "0.2",
         "Setosa"
        ],
        [
         "21",
         null,
         "3.7",
         "1.5",
         "0.4",
         "Setosa"
        ],
        [
         "22",
         "4.6",
         "3.6",
         "1.0",
         "0.2",
         "Setosa"
        ],
        [
         "23",
         "5.1",
         "3.3",
         "1.7",
         "0.5",
         null
        ],
        [
         "24",
         "4.8",
         "3.4",
         null,
         "0.2",
         "Setosa"
        ],
        [
         "25",
         "5.0",
         null,
         "1.6",
         "0.2",
         "Setosa"
        ],
        [
         "26",
         "5.0",
         "3.4",
         "1.6",
         "0.4",
         null
        ],
        [
         "27",
         "5.2",
         "3.5",
         "1.5",
         "0.2",
         "Setosa"
        ],
        [
         "28",
         "5.2",
         "3.4",
         "1.4",
         "0.2",
         "Setosa"
        ],
        [
         "29",
         null,
         "3.2",
         "1.6",
         "0.2",
         null
        ],
        [
         "30",
         "4.8",
         "3.1",
         "1.6",
         "0.2",
         "Setosa"
        ],
        [
         "31",
         "5.4",
         "3.4",
         "1.5",
         "0.4",
         "Setosa"
        ],
        [
         "32",
         "5.2",
         "4.1",
         "1.5",
         "0.1",
         "Setosa"
        ],
        [
         "33",
         "5.5",
         "4.2",
         "1.4",
         "0.2",
         "Setosa"
        ],
        [
         "34",
         "4.9",
         "3.1",
         "1.5",
         "0.2",
         "Setosa"
        ],
        [
         "35",
         "5.0",
         "3.2",
         "1.2",
         "0.2",
         "Setosa"
        ],
        [
         "36",
         "5.5",
         "3.5",
         "1.3",
         "0.2",
         "Setosa"
        ],
        [
         "37",
         "4.9",
         "3.6",
         "1.4",
         "0.1",
         "Setosa"
        ],
        [
         "38",
         "4.4",
         "3.0",
         "1.3",
         "0.2",
         "Setosa"
        ],
        [
         "39",
         "5.1",
         "3.4",
         "1.5",
         "0.2",
         "Setosa"
        ],
        [
         "40",
         "5.0",
         "3.5",
         "1.3",
         "0.3",
         "Setosa"
        ],
        [
         "41",
         "4.5",
         "2.3",
         "1.3",
         "0.3",
         "Setosa"
        ],
        [
         "42",
         "4.4",
         "3.2",
         "1.3",
         "0.2",
         "Setosa"
        ],
        [
         "43",
         "5.0",
         "3.5",
         "1.6",
         "0.6",
         "Setosa"
        ],
        [
         "44",
         "5.1",
         "3.8",
         "1.9",
         "0.4",
         "Setosa"
        ],
        [
         "45",
         "4.8",
         "3.0",
         "1.4",
         "0.3",
         "Setosa"
        ],
        [
         "46",
         "5.1",
         "3.8",
         "1.6",
         "0.2",
         "Setosa"
        ],
        [
         "47",
         "4.6",
         "3.2",
         "1.4",
         "0.2",
         "Setosa"
        ],
        [
         "48",
         "5.3",
         "3.7",
         "1.5",
         "0.2",
         "Setosa"
        ],
        [
         "49",
         "5.0",
         "3.3",
         "1.4",
         "0.2",
         "Setosa"
        ]
       ],
       "shape": {
        "columns": 5,
        "rows": 150
       }
      },
      "text/html": [
       "<div>\n",
       "<style scoped>\n",
       "    .dataframe tbody tr th:only-of-type {\n",
       "        vertical-align: middle;\n",
       "    }\n",
       "\n",
       "    .dataframe tbody tr th {\n",
       "        vertical-align: top;\n",
       "    }\n",
       "\n",
       "    .dataframe thead th {\n",
       "        text-align: right;\n",
       "    }\n",
       "</style>\n",
       "<table border=\"1\" class=\"dataframe\">\n",
       "  <thead>\n",
       "    <tr style=\"text-align: right;\">\n",
       "      <th></th>\n",
       "      <th>sl</th>\n",
       "      <th>sw</th>\n",
       "      <th>petal.length</th>\n",
       "      <th>petal.width</th>\n",
       "      <th>variety</th>\n",
       "    </tr>\n",
       "  </thead>\n",
       "  <tbody>\n",
       "    <tr>\n",
       "      <th>0</th>\n",
       "      <td>5.1</td>\n",
       "      <td>3.5</td>\n",
       "      <td>1.4</td>\n",
       "      <td>0.2</td>\n",
       "      <td>Setosa</td>\n",
       "    </tr>\n",
       "    <tr>\n",
       "      <th>1</th>\n",
       "      <td>4.9</td>\n",
       "      <td>3.0</td>\n",
       "      <td>1.4</td>\n",
       "      <td>0.2</td>\n",
       "      <td>Setosa</td>\n",
       "    </tr>\n",
       "    <tr>\n",
       "      <th>2</th>\n",
       "      <td>4.7</td>\n",
       "      <td>3.2</td>\n",
       "      <td>1.3</td>\n",
       "      <td>0.2</td>\n",
       "      <td>Setosa</td>\n",
       "    </tr>\n",
       "    <tr>\n",
       "      <th>3</th>\n",
       "      <td>4.6</td>\n",
       "      <td>NaN</td>\n",
       "      <td>1.5</td>\n",
       "      <td>0.2</td>\n",
       "      <td>Setosa</td>\n",
       "    </tr>\n",
       "    <tr>\n",
       "      <th>4</th>\n",
       "      <td>5.0</td>\n",
       "      <td>3.6</td>\n",
       "      <td>1.4</td>\n",
       "      <td>0.2</td>\n",
       "      <td>Setosa</td>\n",
       "    </tr>\n",
       "    <tr>\n",
       "      <th>...</th>\n",
       "      <td>...</td>\n",
       "      <td>...</td>\n",
       "      <td>...</td>\n",
       "      <td>...</td>\n",
       "      <td>...</td>\n",
       "    </tr>\n",
       "    <tr>\n",
       "      <th>145</th>\n",
       "      <td>6.7</td>\n",
       "      <td>3.0</td>\n",
       "      <td>5.2</td>\n",
       "      <td>2.3</td>\n",
       "      <td>Virginica</td>\n",
       "    </tr>\n",
       "    <tr>\n",
       "      <th>146</th>\n",
       "      <td>6.3</td>\n",
       "      <td>2.5</td>\n",
       "      <td>5.0</td>\n",
       "      <td>1.9</td>\n",
       "      <td>Virginica</td>\n",
       "    </tr>\n",
       "    <tr>\n",
       "      <th>147</th>\n",
       "      <td>6.5</td>\n",
       "      <td>3.0</td>\n",
       "      <td>5.2</td>\n",
       "      <td>2.0</td>\n",
       "      <td>Virginica</td>\n",
       "    </tr>\n",
       "    <tr>\n",
       "      <th>148</th>\n",
       "      <td>6.2</td>\n",
       "      <td>3.4</td>\n",
       "      <td>5.4</td>\n",
       "      <td>2.3</td>\n",
       "      <td>Virginica</td>\n",
       "    </tr>\n",
       "    <tr>\n",
       "      <th>149</th>\n",
       "      <td>5.9</td>\n",
       "      <td>3.0</td>\n",
       "      <td>5.1</td>\n",
       "      <td>1.8</td>\n",
       "      <td>Virginica</td>\n",
       "    </tr>\n",
       "  </tbody>\n",
       "</table>\n",
       "<p>150 rows × 5 columns</p>\n",
       "</div>"
      ],
      "text/plain": [
       "      sl   sw  petal.length  petal.width    variety\n",
       "0    5.1  3.5           1.4          0.2     Setosa\n",
       "1    4.9  3.0           1.4          0.2     Setosa\n",
       "2    4.7  3.2           1.3          0.2     Setosa\n",
       "3    4.6  NaN           1.5          0.2     Setosa\n",
       "4    5.0  3.6           1.4          0.2     Setosa\n",
       "..   ...  ...           ...          ...        ...\n",
       "145  6.7  3.0           5.2          2.3  Virginica\n",
       "146  6.3  2.5           5.0          1.9  Virginica\n",
       "147  6.5  3.0           5.2          2.0  Virginica\n",
       "148  6.2  3.4           5.4          2.3  Virginica\n",
       "149  5.9  3.0           5.1          1.8  Virginica\n",
       "\n",
       "[150 rows x 5 columns]"
      ]
     },
     "execution_count": 20,
     "metadata": {},
     "output_type": "execute_result"
    }
   ],
   "source": [
    "df2.rename(columns={'sepal.length': 'sl', 'sepal.width': 'sw'})"
   ]
  },
  {
   "cell_type": "code",
   "execution_count": 21,
   "id": "f00cbe16",
   "metadata": {},
   "outputs": [
    {
     "name": "stdout",
     "output_type": "stream",
     "text": [
      "<class 'pandas.core.frame.DataFrame'>\n",
      "RangeIndex: 150 entries, 0 to 149\n",
      "Data columns (total 5 columns):\n",
      " #   Column        Non-Null Count  Dtype  \n",
      "---  ------        --------------  -----  \n",
      " 0   sepal.length  146 non-null    float64\n",
      " 1   sepal.width   147 non-null    float64\n",
      " 2   petal.length  147 non-null    float64\n",
      " 3   petal.width   150 non-null    float64\n",
      " 4   variety       144 non-null    object \n",
      "dtypes: float64(4), object(1)\n",
      "memory usage: 6.0+ KB\n"
     ]
    }
   ],
   "source": [
    "df2.info()"
   ]
  },
  {
   "cell_type": "code",
   "execution_count": 22,
   "id": "55b02cde",
   "metadata": {},
   "outputs": [],
   "source": [
    "df['sepal.length'] = df['sepal.length'].astype(int)"
   ]
  },
  {
   "cell_type": "code",
   "execution_count": 23,
   "id": "5b1ebd10",
   "metadata": {},
   "outputs": [
    {
     "name": "stdout",
     "output_type": "stream",
     "text": [
      "<class 'pandas.core.frame.DataFrame'>\n",
      "RangeIndex: 150 entries, 0 to 149\n",
      "Data columns (total 5 columns):\n",
      " #   Column        Non-Null Count  Dtype  \n",
      "---  ------        --------------  -----  \n",
      " 0   sepal.length  150 non-null    int64  \n",
      " 1   sepal.width   150 non-null    float64\n",
      " 2   petal.length  150 non-null    float64\n",
      " 3   petal.width   150 non-null    float64\n",
      " 4   variety       150 non-null    object \n",
      "dtypes: float64(3), int64(1), object(1)\n",
      "memory usage: 6.0+ KB\n"
     ]
    }
   ],
   "source": [
    "df.info()"
   ]
  },
  {
   "cell_type": "code",
   "execution_count": 24,
   "id": "020f3fa7",
   "metadata": {},
   "outputs": [
    {
     "data": {
      "application/vnd.microsoft.datawrangler.viewer.v0+json": {
       "columns": [
        {
         "name": "index",
         "rawType": "int64",
         "type": "integer"
        },
        {
         "name": "sepal.length",
         "rawType": "int64",
         "type": "integer"
        },
        {
         "name": "sepal.width",
         "rawType": "float64",
         "type": "float"
        },
        {
         "name": "petal.length",
         "rawType": "float64",
         "type": "float"
        },
        {
         "name": "petal.width",
         "rawType": "float64",
         "type": "float"
        },
        {
         "name": "variety",
         "rawType": "object",
         "type": "string"
        }
       ],
       "ref": "1c3ba996-7c5a-4413-bad7-fb522c4ac138",
       "rows": [
        [
         "0",
         "5",
         "3.5",
         "1.4",
         "0.2",
         "Setosa"
        ],
        [
         "1",
         "4",
         "3.0",
         "1.4",
         "0.2",
         "Setosa"
        ],
        [
         "2",
         "4",
         "3.2",
         "1.3",
         "0.2",
         "Setosa"
        ],
        [
         "3",
         "4",
         "3.1",
         "1.5",
         "0.2",
         "Setosa"
        ],
        [
         "4",
         "5",
         "3.6",
         "1.4",
         "0.2",
         "Setosa"
        ],
        [
         "5",
         "5",
         "3.9",
         "1.7",
         "0.4",
         "Setosa"
        ],
        [
         "6",
         "4",
         "3.4",
         "1.4",
         "0.3",
         "Setosa"
        ],
        [
         "7",
         "5",
         "3.4",
         "1.5",
         "0.2",
         "Setosa"
        ],
        [
         "8",
         "4",
         "2.9",
         "1.4",
         "0.2",
         "Setosa"
        ],
        [
         "9",
         "4",
         "3.1",
         "1.5",
         "0.1",
         "Setosa"
        ],
        [
         "10",
         "5",
         "3.7",
         "1.5",
         "0.2",
         "Setosa"
        ],
        [
         "11",
         "4",
         "3.4",
         "1.6",
         "0.2",
         "Setosa"
        ],
        [
         "12",
         "4",
         "3.0",
         "1.4",
         "0.1",
         "Setosa"
        ],
        [
         "13",
         "4",
         "3.0",
         "1.1",
         "0.1",
         "Setosa"
        ],
        [
         "14",
         "5",
         "4.0",
         "1.2",
         "0.2",
         "Setosa"
        ],
        [
         "15",
         "5",
         "4.4",
         "1.5",
         "0.4",
         "Setosa"
        ],
        [
         "16",
         "5",
         "3.9",
         "1.3",
         "0.4",
         "Setosa"
        ],
        [
         "17",
         "5",
         "3.5",
         "1.4",
         "0.3",
         "Setosa"
        ],
        [
         "18",
         "5",
         "3.8",
         "1.7",
         "0.3",
         "Setosa"
        ],
        [
         "19",
         "5",
         "3.8",
         "1.5",
         "0.3",
         "Setosa"
        ],
        [
         "20",
         "5",
         "3.4",
         "1.7",
         "0.2",
         "Setosa"
        ],
        [
         "21",
         "5",
         "3.7",
         "1.5",
         "0.4",
         "Setosa"
        ],
        [
         "22",
         "4",
         "3.6",
         "1.0",
         "0.2",
         "Setosa"
        ],
        [
         "23",
         "5",
         "3.3",
         "1.7",
         "0.5",
         "Setosa"
        ],
        [
         "24",
         "4",
         "3.4",
         "1.9",
         "0.2",
         "Setosa"
        ],
        [
         "25",
         "5",
         "3.0",
         "1.6",
         "0.2",
         "Setosa"
        ],
        [
         "26",
         "5",
         "3.4",
         "1.6",
         "0.4",
         "Setosa"
        ],
        [
         "27",
         "5",
         "3.5",
         "1.5",
         "0.2",
         "Setosa"
        ],
        [
         "28",
         "5",
         "3.4",
         "1.4",
         "0.2",
         "Setosa"
        ],
        [
         "29",
         "4",
         "3.2",
         "1.6",
         "0.2",
         "Setosa"
        ],
        [
         "30",
         "4",
         "3.1",
         "1.6",
         "0.2",
         "Setosa"
        ],
        [
         "31",
         "5",
         "3.4",
         "1.5",
         "0.4",
         "Setosa"
        ],
        [
         "32",
         "5",
         "4.1",
         "1.5",
         "0.1",
         "Setosa"
        ],
        [
         "33",
         "5",
         "4.2",
         "1.4",
         "0.2",
         "Setosa"
        ],
        [
         "34",
         "4",
         "3.1",
         "1.5",
         "0.2",
         "Setosa"
        ],
        [
         "35",
         "5",
         "3.2",
         "1.2",
         "0.2",
         "Setosa"
        ],
        [
         "36",
         "5",
         "3.5",
         "1.3",
         "0.2",
         "Setosa"
        ],
        [
         "37",
         "4",
         "3.6",
         "1.4",
         "0.1",
         "Setosa"
        ],
        [
         "38",
         "4",
         "3.0",
         "1.3",
         "0.2",
         "Setosa"
        ],
        [
         "39",
         "5",
         "3.4",
         "1.5",
         "0.2",
         "Setosa"
        ],
        [
         "40",
         "5",
         "3.5",
         "1.3",
         "0.3",
         "Setosa"
        ],
        [
         "41",
         "4",
         "2.3",
         "1.3",
         "0.3",
         "Setosa"
        ],
        [
         "42",
         "4",
         "3.2",
         "1.3",
         "0.2",
         "Setosa"
        ],
        [
         "43",
         "5",
         "3.5",
         "1.6",
         "0.6",
         "Setosa"
        ],
        [
         "44",
         "5",
         "3.8",
         "1.9",
         "0.4",
         "Setosa"
        ],
        [
         "45",
         "4",
         "3.0",
         "1.4",
         "0.3",
         "Setosa"
        ],
        [
         "46",
         "5",
         "3.8",
         "1.6",
         "0.2",
         "Setosa"
        ],
        [
         "47",
         "4",
         "3.2",
         "1.4",
         "0.2",
         "Setosa"
        ],
        [
         "48",
         "5",
         "3.7",
         "1.5",
         "0.2",
         "Setosa"
        ],
        [
         "49",
         "5",
         "3.3",
         "1.4",
         "0.2",
         "Setosa"
        ]
       ],
       "shape": {
        "columns": 5,
        "rows": 150
       }
      },
      "text/html": [
       "<div>\n",
       "<style scoped>\n",
       "    .dataframe tbody tr th:only-of-type {\n",
       "        vertical-align: middle;\n",
       "    }\n",
       "\n",
       "    .dataframe tbody tr th {\n",
       "        vertical-align: top;\n",
       "    }\n",
       "\n",
       "    .dataframe thead th {\n",
       "        text-align: right;\n",
       "    }\n",
       "</style>\n",
       "<table border=\"1\" class=\"dataframe\">\n",
       "  <thead>\n",
       "    <tr style=\"text-align: right;\">\n",
       "      <th></th>\n",
       "      <th>sepal.length</th>\n",
       "      <th>sepal.width</th>\n",
       "      <th>petal.length</th>\n",
       "      <th>petal.width</th>\n",
       "      <th>variety</th>\n",
       "    </tr>\n",
       "  </thead>\n",
       "  <tbody>\n",
       "    <tr>\n",
       "      <th>0</th>\n",
       "      <td>5</td>\n",
       "      <td>3.5</td>\n",
       "      <td>1.4</td>\n",
       "      <td>0.2</td>\n",
       "      <td>Setosa</td>\n",
       "    </tr>\n",
       "    <tr>\n",
       "      <th>1</th>\n",
       "      <td>4</td>\n",
       "      <td>3.0</td>\n",
       "      <td>1.4</td>\n",
       "      <td>0.2</td>\n",
       "      <td>Setosa</td>\n",
       "    </tr>\n",
       "    <tr>\n",
       "      <th>2</th>\n",
       "      <td>4</td>\n",
       "      <td>3.2</td>\n",
       "      <td>1.3</td>\n",
       "      <td>0.2</td>\n",
       "      <td>Setosa</td>\n",
       "    </tr>\n",
       "    <tr>\n",
       "      <th>3</th>\n",
       "      <td>4</td>\n",
       "      <td>3.1</td>\n",
       "      <td>1.5</td>\n",
       "      <td>0.2</td>\n",
       "      <td>Setosa</td>\n",
       "    </tr>\n",
       "    <tr>\n",
       "      <th>4</th>\n",
       "      <td>5</td>\n",
       "      <td>3.6</td>\n",
       "      <td>1.4</td>\n",
       "      <td>0.2</td>\n",
       "      <td>Setosa</td>\n",
       "    </tr>\n",
       "    <tr>\n",
       "      <th>...</th>\n",
       "      <td>...</td>\n",
       "      <td>...</td>\n",
       "      <td>...</td>\n",
       "      <td>...</td>\n",
       "      <td>...</td>\n",
       "    </tr>\n",
       "    <tr>\n",
       "      <th>145</th>\n",
       "      <td>6</td>\n",
       "      <td>3.0</td>\n",
       "      <td>5.2</td>\n",
       "      <td>2.3</td>\n",
       "      <td>Virginica</td>\n",
       "    </tr>\n",
       "    <tr>\n",
       "      <th>146</th>\n",
       "      <td>6</td>\n",
       "      <td>2.5</td>\n",
       "      <td>5.0</td>\n",
       "      <td>1.9</td>\n",
       "      <td>Virginica</td>\n",
       "    </tr>\n",
       "    <tr>\n",
       "      <th>147</th>\n",
       "      <td>6</td>\n",
       "      <td>3.0</td>\n",
       "      <td>5.2</td>\n",
       "      <td>2.0</td>\n",
       "      <td>Virginica</td>\n",
       "    </tr>\n",
       "    <tr>\n",
       "      <th>148</th>\n",
       "      <td>6</td>\n",
       "      <td>3.4</td>\n",
       "      <td>5.4</td>\n",
       "      <td>2.3</td>\n",
       "      <td>Virginica</td>\n",
       "    </tr>\n",
       "    <tr>\n",
       "      <th>149</th>\n",
       "      <td>5</td>\n",
       "      <td>3.0</td>\n",
       "      <td>5.1</td>\n",
       "      <td>1.8</td>\n",
       "      <td>Virginica</td>\n",
       "    </tr>\n",
       "  </tbody>\n",
       "</table>\n",
       "<p>150 rows × 5 columns</p>\n",
       "</div>"
      ],
      "text/plain": [
       "     sepal.length  sepal.width  petal.length  petal.width    variety\n",
       "0               5          3.5           1.4          0.2     Setosa\n",
       "1               4          3.0           1.4          0.2     Setosa\n",
       "2               4          3.2           1.3          0.2     Setosa\n",
       "3               4          3.1           1.5          0.2     Setosa\n",
       "4               5          3.6           1.4          0.2     Setosa\n",
       "..            ...          ...           ...          ...        ...\n",
       "145             6          3.0           5.2          2.3  Virginica\n",
       "146             6          2.5           5.0          1.9  Virginica\n",
       "147             6          3.0           5.2          2.0  Virginica\n",
       "148             6          3.4           5.4          2.3  Virginica\n",
       "149             5          3.0           5.1          1.8  Virginica\n",
       "\n",
       "[150 rows x 5 columns]"
      ]
     },
     "execution_count": 24,
     "metadata": {},
     "output_type": "execute_result"
    }
   ],
   "source": [
    "df"
   ]
  },
  {
   "cell_type": "code",
   "execution_count": 25,
   "id": "4241caf1",
   "metadata": {},
   "outputs": [],
   "source": [
    "df['zeroes'] = [i+1 for i in range(len(df))]"
   ]
  },
  {
   "cell_type": "code",
   "execution_count": 26,
   "id": "dbe2ea74",
   "metadata": {},
   "outputs": [
    {
     "data": {
      "application/vnd.microsoft.datawrangler.viewer.v0+json": {
       "columns": [
        {
         "name": "index",
         "rawType": "int64",
         "type": "integer"
        },
        {
         "name": "sepal.length",
         "rawType": "int64",
         "type": "integer"
        },
        {
         "name": "sepal.width",
         "rawType": "float64",
         "type": "float"
        },
        {
         "name": "petal.length",
         "rawType": "float64",
         "type": "float"
        },
        {
         "name": "petal.width",
         "rawType": "float64",
         "type": "float"
        },
        {
         "name": "variety",
         "rawType": "object",
         "type": "string"
        },
        {
         "name": "zeroes",
         "rawType": "int64",
         "type": "integer"
        }
       ],
       "ref": "7633fe2a-6b9f-4dc6-9552-1854c69337f1",
       "rows": [
        [
         "0",
         "5",
         "3.5",
         "1.4",
         "0.2",
         "Setosa",
         "1"
        ],
        [
         "1",
         "4",
         "3.0",
         "1.4",
         "0.2",
         "Setosa",
         "2"
        ],
        [
         "2",
         "4",
         "3.2",
         "1.3",
         "0.2",
         "Setosa",
         "3"
        ],
        [
         "3",
         "4",
         "3.1",
         "1.5",
         "0.2",
         "Setosa",
         "4"
        ],
        [
         "4",
         "5",
         "3.6",
         "1.4",
         "0.2",
         "Setosa",
         "5"
        ],
        [
         "5",
         "5",
         "3.9",
         "1.7",
         "0.4",
         "Setosa",
         "6"
        ],
        [
         "6",
         "4",
         "3.4",
         "1.4",
         "0.3",
         "Setosa",
         "7"
        ],
        [
         "7",
         "5",
         "3.4",
         "1.5",
         "0.2",
         "Setosa",
         "8"
        ],
        [
         "8",
         "4",
         "2.9",
         "1.4",
         "0.2",
         "Setosa",
         "9"
        ],
        [
         "9",
         "4",
         "3.1",
         "1.5",
         "0.1",
         "Setosa",
         "10"
        ],
        [
         "10",
         "5",
         "3.7",
         "1.5",
         "0.2",
         "Setosa",
         "11"
        ],
        [
         "11",
         "4",
         "3.4",
         "1.6",
         "0.2",
         "Setosa",
         "12"
        ],
        [
         "12",
         "4",
         "3.0",
         "1.4",
         "0.1",
         "Setosa",
         "13"
        ],
        [
         "13",
         "4",
         "3.0",
         "1.1",
         "0.1",
         "Setosa",
         "14"
        ],
        [
         "14",
         "5",
         "4.0",
         "1.2",
         "0.2",
         "Setosa",
         "15"
        ],
        [
         "15",
         "5",
         "4.4",
         "1.5",
         "0.4",
         "Setosa",
         "16"
        ],
        [
         "16",
         "5",
         "3.9",
         "1.3",
         "0.4",
         "Setosa",
         "17"
        ],
        [
         "17",
         "5",
         "3.5",
         "1.4",
         "0.3",
         "Setosa",
         "18"
        ],
        [
         "18",
         "5",
         "3.8",
         "1.7",
         "0.3",
         "Setosa",
         "19"
        ],
        [
         "19",
         "5",
         "3.8",
         "1.5",
         "0.3",
         "Setosa",
         "20"
        ],
        [
         "20",
         "5",
         "3.4",
         "1.7",
         "0.2",
         "Setosa",
         "21"
        ],
        [
         "21",
         "5",
         "3.7",
         "1.5",
         "0.4",
         "Setosa",
         "22"
        ],
        [
         "22",
         "4",
         "3.6",
         "1.0",
         "0.2",
         "Setosa",
         "23"
        ],
        [
         "23",
         "5",
         "3.3",
         "1.7",
         "0.5",
         "Setosa",
         "24"
        ],
        [
         "24",
         "4",
         "3.4",
         "1.9",
         "0.2",
         "Setosa",
         "25"
        ],
        [
         "25",
         "5",
         "3.0",
         "1.6",
         "0.2",
         "Setosa",
         "26"
        ],
        [
         "26",
         "5",
         "3.4",
         "1.6",
         "0.4",
         "Setosa",
         "27"
        ],
        [
         "27",
         "5",
         "3.5",
         "1.5",
         "0.2",
         "Setosa",
         "28"
        ],
        [
         "28",
         "5",
         "3.4",
         "1.4",
         "0.2",
         "Setosa",
         "29"
        ],
        [
         "29",
         "4",
         "3.2",
         "1.6",
         "0.2",
         "Setosa",
         "30"
        ],
        [
         "30",
         "4",
         "3.1",
         "1.6",
         "0.2",
         "Setosa",
         "31"
        ],
        [
         "31",
         "5",
         "3.4",
         "1.5",
         "0.4",
         "Setosa",
         "32"
        ],
        [
         "32",
         "5",
         "4.1",
         "1.5",
         "0.1",
         "Setosa",
         "33"
        ],
        [
         "33",
         "5",
         "4.2",
         "1.4",
         "0.2",
         "Setosa",
         "34"
        ],
        [
         "34",
         "4",
         "3.1",
         "1.5",
         "0.2",
         "Setosa",
         "35"
        ],
        [
         "35",
         "5",
         "3.2",
         "1.2",
         "0.2",
         "Setosa",
         "36"
        ],
        [
         "36",
         "5",
         "3.5",
         "1.3",
         "0.2",
         "Setosa",
         "37"
        ],
        [
         "37",
         "4",
         "3.6",
         "1.4",
         "0.1",
         "Setosa",
         "38"
        ],
        [
         "38",
         "4",
         "3.0",
         "1.3",
         "0.2",
         "Setosa",
         "39"
        ],
        [
         "39",
         "5",
         "3.4",
         "1.5",
         "0.2",
         "Setosa",
         "40"
        ],
        [
         "40",
         "5",
         "3.5",
         "1.3",
         "0.3",
         "Setosa",
         "41"
        ],
        [
         "41",
         "4",
         "2.3",
         "1.3",
         "0.3",
         "Setosa",
         "42"
        ],
        [
         "42",
         "4",
         "3.2",
         "1.3",
         "0.2",
         "Setosa",
         "43"
        ],
        [
         "43",
         "5",
         "3.5",
         "1.6",
         "0.6",
         "Setosa",
         "44"
        ],
        [
         "44",
         "5",
         "3.8",
         "1.9",
         "0.4",
         "Setosa",
         "45"
        ],
        [
         "45",
         "4",
         "3.0",
         "1.4",
         "0.3",
         "Setosa",
         "46"
        ],
        [
         "46",
         "5",
         "3.8",
         "1.6",
         "0.2",
         "Setosa",
         "47"
        ],
        [
         "47",
         "4",
         "3.2",
         "1.4",
         "0.2",
         "Setosa",
         "48"
        ],
        [
         "48",
         "5",
         "3.7",
         "1.5",
         "0.2",
         "Setosa",
         "49"
        ],
        [
         "49",
         "5",
         "3.3",
         "1.4",
         "0.2",
         "Setosa",
         "50"
        ]
       ],
       "shape": {
        "columns": 6,
        "rows": 150
       }
      },
      "text/html": [
       "<div>\n",
       "<style scoped>\n",
       "    .dataframe tbody tr th:only-of-type {\n",
       "        vertical-align: middle;\n",
       "    }\n",
       "\n",
       "    .dataframe tbody tr th {\n",
       "        vertical-align: top;\n",
       "    }\n",
       "\n",
       "    .dataframe thead th {\n",
       "        text-align: right;\n",
       "    }\n",
       "</style>\n",
       "<table border=\"1\" class=\"dataframe\">\n",
       "  <thead>\n",
       "    <tr style=\"text-align: right;\">\n",
       "      <th></th>\n",
       "      <th>sepal.length</th>\n",
       "      <th>sepal.width</th>\n",
       "      <th>petal.length</th>\n",
       "      <th>petal.width</th>\n",
       "      <th>variety</th>\n",
       "      <th>zeroes</th>\n",
       "    </tr>\n",
       "  </thead>\n",
       "  <tbody>\n",
       "    <tr>\n",
       "      <th>0</th>\n",
       "      <td>5</td>\n",
       "      <td>3.5</td>\n",
       "      <td>1.4</td>\n",
       "      <td>0.2</td>\n",
       "      <td>Setosa</td>\n",
       "      <td>1</td>\n",
       "    </tr>\n",
       "    <tr>\n",
       "      <th>1</th>\n",
       "      <td>4</td>\n",
       "      <td>3.0</td>\n",
       "      <td>1.4</td>\n",
       "      <td>0.2</td>\n",
       "      <td>Setosa</td>\n",
       "      <td>2</td>\n",
       "    </tr>\n",
       "    <tr>\n",
       "      <th>2</th>\n",
       "      <td>4</td>\n",
       "      <td>3.2</td>\n",
       "      <td>1.3</td>\n",
       "      <td>0.2</td>\n",
       "      <td>Setosa</td>\n",
       "      <td>3</td>\n",
       "    </tr>\n",
       "    <tr>\n",
       "      <th>3</th>\n",
       "      <td>4</td>\n",
       "      <td>3.1</td>\n",
       "      <td>1.5</td>\n",
       "      <td>0.2</td>\n",
       "      <td>Setosa</td>\n",
       "      <td>4</td>\n",
       "    </tr>\n",
       "    <tr>\n",
       "      <th>4</th>\n",
       "      <td>5</td>\n",
       "      <td>3.6</td>\n",
       "      <td>1.4</td>\n",
       "      <td>0.2</td>\n",
       "      <td>Setosa</td>\n",
       "      <td>5</td>\n",
       "    </tr>\n",
       "    <tr>\n",
       "      <th>...</th>\n",
       "      <td>...</td>\n",
       "      <td>...</td>\n",
       "      <td>...</td>\n",
       "      <td>...</td>\n",
       "      <td>...</td>\n",
       "      <td>...</td>\n",
       "    </tr>\n",
       "    <tr>\n",
       "      <th>145</th>\n",
       "      <td>6</td>\n",
       "      <td>3.0</td>\n",
       "      <td>5.2</td>\n",
       "      <td>2.3</td>\n",
       "      <td>Virginica</td>\n",
       "      <td>146</td>\n",
       "    </tr>\n",
       "    <tr>\n",
       "      <th>146</th>\n",
       "      <td>6</td>\n",
       "      <td>2.5</td>\n",
       "      <td>5.0</td>\n",
       "      <td>1.9</td>\n",
       "      <td>Virginica</td>\n",
       "      <td>147</td>\n",
       "    </tr>\n",
       "    <tr>\n",
       "      <th>147</th>\n",
       "      <td>6</td>\n",
       "      <td>3.0</td>\n",
       "      <td>5.2</td>\n",
       "      <td>2.0</td>\n",
       "      <td>Virginica</td>\n",
       "      <td>148</td>\n",
       "    </tr>\n",
       "    <tr>\n",
       "      <th>148</th>\n",
       "      <td>6</td>\n",
       "      <td>3.4</td>\n",
       "      <td>5.4</td>\n",
       "      <td>2.3</td>\n",
       "      <td>Virginica</td>\n",
       "      <td>149</td>\n",
       "    </tr>\n",
       "    <tr>\n",
       "      <th>149</th>\n",
       "      <td>5</td>\n",
       "      <td>3.0</td>\n",
       "      <td>5.1</td>\n",
       "      <td>1.8</td>\n",
       "      <td>Virginica</td>\n",
       "      <td>150</td>\n",
       "    </tr>\n",
       "  </tbody>\n",
       "</table>\n",
       "<p>150 rows × 6 columns</p>\n",
       "</div>"
      ],
      "text/plain": [
       "     sepal.length  sepal.width  petal.length  petal.width    variety  zeroes\n",
       "0               5          3.5           1.4          0.2     Setosa       1\n",
       "1               4          3.0           1.4          0.2     Setosa       2\n",
       "2               4          3.2           1.3          0.2     Setosa       3\n",
       "3               4          3.1           1.5          0.2     Setosa       4\n",
       "4               5          3.6           1.4          0.2     Setosa       5\n",
       "..            ...          ...           ...          ...        ...     ...\n",
       "145             6          3.0           5.2          2.3  Virginica     146\n",
       "146             6          2.5           5.0          1.9  Virginica     147\n",
       "147             6          3.0           5.2          2.0  Virginica     148\n",
       "148             6          3.4           5.4          2.3  Virginica     149\n",
       "149             5          3.0           5.1          1.8  Virginica     150\n",
       "\n",
       "[150 rows x 6 columns]"
      ]
     },
     "execution_count": 26,
     "metadata": {},
     "output_type": "execute_result"
    }
   ],
   "source": [
    "df"
   ]
  },
  {
   "cell_type": "code",
   "execution_count": 27,
   "id": "5da12218",
   "metadata": {},
   "outputs": [
    {
     "data": {
      "application/vnd.microsoft.datawrangler.viewer.v0+json": {
       "columns": [
        {
         "name": "index",
         "rawType": "int64",
         "type": "integer"
        },
        {
         "name": "sepal.length",
         "rawType": "int64",
         "type": "integer"
        },
        {
         "name": "sepal.width",
         "rawType": "float64",
         "type": "float"
        },
        {
         "name": "petal.length",
         "rawType": "float64",
         "type": "float"
        },
        {
         "name": "petal.width",
         "rawType": "float64",
         "type": "float"
        },
        {
         "name": "variety",
         "rawType": "object",
         "type": "string"
        },
        {
         "name": "zeroes",
         "rawType": "int64",
         "type": "integer"
        },
        {
         "name": "zeroes + 1",
         "rawType": "int64",
         "type": "integer"
        }
       ],
       "ref": "9a2a83a1-82c5-4204-bba1-b8b8e5d23f6d",
       "rows": [
        [
         "0",
         "5",
         "3.5",
         "1.4",
         "0.2",
         "Setosa",
         "1",
         "2"
        ],
        [
         "1",
         "4",
         "3.0",
         "1.4",
         "0.2",
         "Setosa",
         "2",
         "3"
        ],
        [
         "2",
         "4",
         "3.2",
         "1.3",
         "0.2",
         "Setosa",
         "3",
         "4"
        ],
        [
         "3",
         "4",
         "3.1",
         "1.5",
         "0.2",
         "Setosa",
         "4",
         "5"
        ],
        [
         "4",
         "5",
         "3.6",
         "1.4",
         "0.2",
         "Setosa",
         "5",
         "6"
        ],
        [
         "5",
         "5",
         "3.9",
         "1.7",
         "0.4",
         "Setosa",
         "6",
         "7"
        ],
        [
         "6",
         "4",
         "3.4",
         "1.4",
         "0.3",
         "Setosa",
         "7",
         "8"
        ],
        [
         "7",
         "5",
         "3.4",
         "1.5",
         "0.2",
         "Setosa",
         "8",
         "9"
        ],
        [
         "8",
         "4",
         "2.9",
         "1.4",
         "0.2",
         "Setosa",
         "9",
         "10"
        ],
        [
         "9",
         "4",
         "3.1",
         "1.5",
         "0.1",
         "Setosa",
         "10",
         "11"
        ],
        [
         "10",
         "5",
         "3.7",
         "1.5",
         "0.2",
         "Setosa",
         "11",
         "12"
        ],
        [
         "11",
         "4",
         "3.4",
         "1.6",
         "0.2",
         "Setosa",
         "12",
         "13"
        ],
        [
         "12",
         "4",
         "3.0",
         "1.4",
         "0.1",
         "Setosa",
         "13",
         "14"
        ],
        [
         "13",
         "4",
         "3.0",
         "1.1",
         "0.1",
         "Setosa",
         "14",
         "15"
        ],
        [
         "14",
         "5",
         "4.0",
         "1.2",
         "0.2",
         "Setosa",
         "15",
         "16"
        ],
        [
         "15",
         "5",
         "4.4",
         "1.5",
         "0.4",
         "Setosa",
         "16",
         "17"
        ],
        [
         "16",
         "5",
         "3.9",
         "1.3",
         "0.4",
         "Setosa",
         "17",
         "18"
        ],
        [
         "17",
         "5",
         "3.5",
         "1.4",
         "0.3",
         "Setosa",
         "18",
         "19"
        ],
        [
         "18",
         "5",
         "3.8",
         "1.7",
         "0.3",
         "Setosa",
         "19",
         "20"
        ],
        [
         "19",
         "5",
         "3.8",
         "1.5",
         "0.3",
         "Setosa",
         "20",
         "21"
        ],
        [
         "20",
         "5",
         "3.4",
         "1.7",
         "0.2",
         "Setosa",
         "21",
         "22"
        ],
        [
         "21",
         "5",
         "3.7",
         "1.5",
         "0.4",
         "Setosa",
         "22",
         "23"
        ],
        [
         "22",
         "4",
         "3.6",
         "1.0",
         "0.2",
         "Setosa",
         "23",
         "24"
        ],
        [
         "23",
         "5",
         "3.3",
         "1.7",
         "0.5",
         "Setosa",
         "24",
         "25"
        ],
        [
         "24",
         "4",
         "3.4",
         "1.9",
         "0.2",
         "Setosa",
         "25",
         "26"
        ],
        [
         "25",
         "5",
         "3.0",
         "1.6",
         "0.2",
         "Setosa",
         "26",
         "27"
        ],
        [
         "26",
         "5",
         "3.4",
         "1.6",
         "0.4",
         "Setosa",
         "27",
         "28"
        ],
        [
         "27",
         "5",
         "3.5",
         "1.5",
         "0.2",
         "Setosa",
         "28",
         "29"
        ],
        [
         "28",
         "5",
         "3.4",
         "1.4",
         "0.2",
         "Setosa",
         "29",
         "30"
        ],
        [
         "29",
         "4",
         "3.2",
         "1.6",
         "0.2",
         "Setosa",
         "30",
         "31"
        ],
        [
         "30",
         "4",
         "3.1",
         "1.6",
         "0.2",
         "Setosa",
         "31",
         "32"
        ],
        [
         "31",
         "5",
         "3.4",
         "1.5",
         "0.4",
         "Setosa",
         "32",
         "33"
        ],
        [
         "32",
         "5",
         "4.1",
         "1.5",
         "0.1",
         "Setosa",
         "33",
         "34"
        ],
        [
         "33",
         "5",
         "4.2",
         "1.4",
         "0.2",
         "Setosa",
         "34",
         "35"
        ],
        [
         "34",
         "4",
         "3.1",
         "1.5",
         "0.2",
         "Setosa",
         "35",
         "36"
        ],
        [
         "35",
         "5",
         "3.2",
         "1.2",
         "0.2",
         "Setosa",
         "36",
         "37"
        ],
        [
         "36",
         "5",
         "3.5",
         "1.3",
         "0.2",
         "Setosa",
         "37",
         "38"
        ],
        [
         "37",
         "4",
         "3.6",
         "1.4",
         "0.1",
         "Setosa",
         "38",
         "39"
        ],
        [
         "38",
         "4",
         "3.0",
         "1.3",
         "0.2",
         "Setosa",
         "39",
         "40"
        ],
        [
         "39",
         "5",
         "3.4",
         "1.5",
         "0.2",
         "Setosa",
         "40",
         "41"
        ],
        [
         "40",
         "5",
         "3.5",
         "1.3",
         "0.3",
         "Setosa",
         "41",
         "42"
        ],
        [
         "41",
         "4",
         "2.3",
         "1.3",
         "0.3",
         "Setosa",
         "42",
         "43"
        ],
        [
         "42",
         "4",
         "3.2",
         "1.3",
         "0.2",
         "Setosa",
         "43",
         "44"
        ],
        [
         "43",
         "5",
         "3.5",
         "1.6",
         "0.6",
         "Setosa",
         "44",
         "45"
        ],
        [
         "44",
         "5",
         "3.8",
         "1.9",
         "0.4",
         "Setosa",
         "45",
         "46"
        ],
        [
         "45",
         "4",
         "3.0",
         "1.4",
         "0.3",
         "Setosa",
         "46",
         "47"
        ],
        [
         "46",
         "5",
         "3.8",
         "1.6",
         "0.2",
         "Setosa",
         "47",
         "48"
        ],
        [
         "47",
         "4",
         "3.2",
         "1.4",
         "0.2",
         "Setosa",
         "48",
         "49"
        ],
        [
         "48",
         "5",
         "3.7",
         "1.5",
         "0.2",
         "Setosa",
         "49",
         "50"
        ],
        [
         "49",
         "5",
         "3.3",
         "1.4",
         "0.2",
         "Setosa",
         "50",
         "51"
        ]
       ],
       "shape": {
        "columns": 7,
        "rows": 150
       }
      },
      "text/html": [
       "<div>\n",
       "<style scoped>\n",
       "    .dataframe tbody tr th:only-of-type {\n",
       "        vertical-align: middle;\n",
       "    }\n",
       "\n",
       "    .dataframe tbody tr th {\n",
       "        vertical-align: top;\n",
       "    }\n",
       "\n",
       "    .dataframe thead th {\n",
       "        text-align: right;\n",
       "    }\n",
       "</style>\n",
       "<table border=\"1\" class=\"dataframe\">\n",
       "  <thead>\n",
       "    <tr style=\"text-align: right;\">\n",
       "      <th></th>\n",
       "      <th>sepal.length</th>\n",
       "      <th>sepal.width</th>\n",
       "      <th>petal.length</th>\n",
       "      <th>petal.width</th>\n",
       "      <th>variety</th>\n",
       "      <th>zeroes</th>\n",
       "      <th>zeroes + 1</th>\n",
       "    </tr>\n",
       "  </thead>\n",
       "  <tbody>\n",
       "    <tr>\n",
       "      <th>0</th>\n",
       "      <td>5</td>\n",
       "      <td>3.5</td>\n",
       "      <td>1.4</td>\n",
       "      <td>0.2</td>\n",
       "      <td>Setosa</td>\n",
       "      <td>1</td>\n",
       "      <td>2</td>\n",
       "    </tr>\n",
       "    <tr>\n",
       "      <th>1</th>\n",
       "      <td>4</td>\n",
       "      <td>3.0</td>\n",
       "      <td>1.4</td>\n",
       "      <td>0.2</td>\n",
       "      <td>Setosa</td>\n",
       "      <td>2</td>\n",
       "      <td>3</td>\n",
       "    </tr>\n",
       "    <tr>\n",
       "      <th>2</th>\n",
       "      <td>4</td>\n",
       "      <td>3.2</td>\n",
       "      <td>1.3</td>\n",
       "      <td>0.2</td>\n",
       "      <td>Setosa</td>\n",
       "      <td>3</td>\n",
       "      <td>4</td>\n",
       "    </tr>\n",
       "    <tr>\n",
       "      <th>3</th>\n",
       "      <td>4</td>\n",
       "      <td>3.1</td>\n",
       "      <td>1.5</td>\n",
       "      <td>0.2</td>\n",
       "      <td>Setosa</td>\n",
       "      <td>4</td>\n",
       "      <td>5</td>\n",
       "    </tr>\n",
       "    <tr>\n",
       "      <th>4</th>\n",
       "      <td>5</td>\n",
       "      <td>3.6</td>\n",
       "      <td>1.4</td>\n",
       "      <td>0.2</td>\n",
       "      <td>Setosa</td>\n",
       "      <td>5</td>\n",
       "      <td>6</td>\n",
       "    </tr>\n",
       "    <tr>\n",
       "      <th>...</th>\n",
       "      <td>...</td>\n",
       "      <td>...</td>\n",
       "      <td>...</td>\n",
       "      <td>...</td>\n",
       "      <td>...</td>\n",
       "      <td>...</td>\n",
       "      <td>...</td>\n",
       "    </tr>\n",
       "    <tr>\n",
       "      <th>145</th>\n",
       "      <td>6</td>\n",
       "      <td>3.0</td>\n",
       "      <td>5.2</td>\n",
       "      <td>2.3</td>\n",
       "      <td>Virginica</td>\n",
       "      <td>146</td>\n",
       "      <td>147</td>\n",
       "    </tr>\n",
       "    <tr>\n",
       "      <th>146</th>\n",
       "      <td>6</td>\n",
       "      <td>2.5</td>\n",
       "      <td>5.0</td>\n",
       "      <td>1.9</td>\n",
       "      <td>Virginica</td>\n",
       "      <td>147</td>\n",
       "      <td>148</td>\n",
       "    </tr>\n",
       "    <tr>\n",
       "      <th>147</th>\n",
       "      <td>6</td>\n",
       "      <td>3.0</td>\n",
       "      <td>5.2</td>\n",
       "      <td>2.0</td>\n",
       "      <td>Virginica</td>\n",
       "      <td>148</td>\n",
       "      <td>149</td>\n",
       "    </tr>\n",
       "    <tr>\n",
       "      <th>148</th>\n",
       "      <td>6</td>\n",
       "      <td>3.4</td>\n",
       "      <td>5.4</td>\n",
       "      <td>2.3</td>\n",
       "      <td>Virginica</td>\n",
       "      <td>149</td>\n",
       "      <td>150</td>\n",
       "    </tr>\n",
       "    <tr>\n",
       "      <th>149</th>\n",
       "      <td>5</td>\n",
       "      <td>3.0</td>\n",
       "      <td>5.1</td>\n",
       "      <td>1.8</td>\n",
       "      <td>Virginica</td>\n",
       "      <td>150</td>\n",
       "      <td>151</td>\n",
       "    </tr>\n",
       "  </tbody>\n",
       "</table>\n",
       "<p>150 rows × 7 columns</p>\n",
       "</div>"
      ],
      "text/plain": [
       "     sepal.length  sepal.width  petal.length  petal.width    variety  zeroes  \\\n",
       "0               5          3.5           1.4          0.2     Setosa       1   \n",
       "1               4          3.0           1.4          0.2     Setosa       2   \n",
       "2               4          3.2           1.3          0.2     Setosa       3   \n",
       "3               4          3.1           1.5          0.2     Setosa       4   \n",
       "4               5          3.6           1.4          0.2     Setosa       5   \n",
       "..            ...          ...           ...          ...        ...     ...   \n",
       "145             6          3.0           5.2          2.3  Virginica     146   \n",
       "146             6          2.5           5.0          1.9  Virginica     147   \n",
       "147             6          3.0           5.2          2.0  Virginica     148   \n",
       "148             6          3.4           5.4          2.3  Virginica     149   \n",
       "149             5          3.0           5.1          1.8  Virginica     150   \n",
       "\n",
       "     zeroes + 1  \n",
       "0             2  \n",
       "1             3  \n",
       "2             4  \n",
       "3             5  \n",
       "4             6  \n",
       "..          ...  \n",
       "145         147  \n",
       "146         148  \n",
       "147         149  \n",
       "148         150  \n",
       "149         151  \n",
       "\n",
       "[150 rows x 7 columns]"
      ]
     },
     "execution_count": 27,
     "metadata": {},
     "output_type": "execute_result"
    }
   ],
   "source": [
    "def fx(a):\n",
    "    return a + 1\n",
    "\n",
    "df[\"zeroes + 1\"] = df[\"zeroes\"].apply(fx)\n",
    "df"
   ]
  },
  {
   "cell_type": "code",
   "execution_count": 28,
   "id": "36d40595",
   "metadata": {},
   "outputs": [],
   "source": [
    "df.to_csv('../data/export.csv', index=False)"
   ]
  },
  {
   "cell_type": "code",
   "execution_count": 29,
   "id": "2f319fba",
   "metadata": {},
   "outputs": [
    {
     "data": {
      "application/vnd.microsoft.datawrangler.viewer.v0+json": {
       "columns": [
        {
         "name": "index",
         "rawType": "int64",
         "type": "integer"
        },
        {
         "name": "name",
         "rawType": "object",
         "type": "string"
        },
        {
         "name": "marks",
         "rawType": "int64",
         "type": "integer"
        }
       ],
       "ref": "e773df1c-ea72-402b-aa76-d94f8a1aae03",
       "rows": [
        [
         "0",
         "Alice",
         "85"
        ],
        [
         "1",
         "Bob",
         "90"
        ],
        [
         "2",
         "Charlie",
         "78"
        ],
        [
         "3",
         "Rohan",
         "88"
        ],
        [
         "4",
         "Shubham",
         "92"
        ],
        [
         "5",
         "Aparna",
         "95"
        ],
        [
         "6",
         "Khushi",
         "80"
        ]
       ],
       "shape": {
        "columns": 2,
        "rows": 7
       }
      },
      "text/html": [
       "<div>\n",
       "<style scoped>\n",
       "    .dataframe tbody tr th:only-of-type {\n",
       "        vertical-align: middle;\n",
       "    }\n",
       "\n",
       "    .dataframe tbody tr th {\n",
       "        vertical-align: top;\n",
       "    }\n",
       "\n",
       "    .dataframe thead th {\n",
       "        text-align: right;\n",
       "    }\n",
       "</style>\n",
       "<table border=\"1\" class=\"dataframe\">\n",
       "  <thead>\n",
       "    <tr style=\"text-align: right;\">\n",
       "      <th></th>\n",
       "      <th>name</th>\n",
       "      <th>marks</th>\n",
       "    </tr>\n",
       "  </thead>\n",
       "  <tbody>\n",
       "    <tr>\n",
       "      <th>0</th>\n",
       "      <td>Alice</td>\n",
       "      <td>85</td>\n",
       "    </tr>\n",
       "    <tr>\n",
       "      <th>1</th>\n",
       "      <td>Bob</td>\n",
       "      <td>90</td>\n",
       "    </tr>\n",
       "    <tr>\n",
       "      <th>2</th>\n",
       "      <td>Charlie</td>\n",
       "      <td>78</td>\n",
       "    </tr>\n",
       "    <tr>\n",
       "      <th>3</th>\n",
       "      <td>Rohan</td>\n",
       "      <td>88</td>\n",
       "    </tr>\n",
       "    <tr>\n",
       "      <th>4</th>\n",
       "      <td>Shubham</td>\n",
       "      <td>92</td>\n",
       "    </tr>\n",
       "    <tr>\n",
       "      <th>5</th>\n",
       "      <td>Aparna</td>\n",
       "      <td>95</td>\n",
       "    </tr>\n",
       "    <tr>\n",
       "      <th>6</th>\n",
       "      <td>Khushi</td>\n",
       "      <td>80</td>\n",
       "    </tr>\n",
       "  </tbody>\n",
       "</table>\n",
       "</div>"
      ],
      "text/plain": [
       "      name  marks\n",
       "0    Alice     85\n",
       "1      Bob     90\n",
       "2  Charlie     78\n",
       "3    Rohan     88\n",
       "4  Shubham     92\n",
       "5   Aparna     95\n",
       "6   Khushi     80"
      ]
     },
     "execution_count": 29,
     "metadata": {},
     "output_type": "execute_result"
    }
   ],
   "source": [
    "df1 = pd.DataFrame({\"name\": [\"Alice\", \"Bob\", \"Charlie\", \"Rohan\", \"Shubham\", \"Aparna\", \"Khushi\"], \"marks\": [85, 90, 78, 88, 92, 95, 80]\n",
    "                    })\n",
    "\n",
    "df1"
   ]
  },
  {
   "cell_type": "code",
   "execution_count": 30,
   "id": "7bfe2898",
   "metadata": {},
   "outputs": [
    {
     "data": {
      "application/vnd.microsoft.datawrangler.viewer.v0+json": {
       "columns": [
        {
         "name": "index",
         "rawType": "int64",
         "type": "integer"
        },
        {
         "name": "name",
         "rawType": "object",
         "type": "string"
        },
        {
         "name": "marks",
         "rawType": "int64",
         "type": "integer"
        }
       ],
       "ref": "ed6fc315-aafd-428a-84c1-ba153712bf0c",
       "rows": [
        [
         "0",
         "Akash",
         "88"
        ],
        [
         "1",
         "Akasha",
         "92"
        ],
        [
         "2",
         "Alka",
         "79"
        ],
        [
         "3",
         "Priyanka",
         "85"
        ]
       ],
       "shape": {
        "columns": 2,
        "rows": 4
       }
      },
      "text/html": [
       "<div>\n",
       "<style scoped>\n",
       "    .dataframe tbody tr th:only-of-type {\n",
       "        vertical-align: middle;\n",
       "    }\n",
       "\n",
       "    .dataframe tbody tr th {\n",
       "        vertical-align: top;\n",
       "    }\n",
       "\n",
       "    .dataframe thead th {\n",
       "        text-align: right;\n",
       "    }\n",
       "</style>\n",
       "<table border=\"1\" class=\"dataframe\">\n",
       "  <thead>\n",
       "    <tr style=\"text-align: right;\">\n",
       "      <th></th>\n",
       "      <th>name</th>\n",
       "      <th>marks</th>\n",
       "    </tr>\n",
       "  </thead>\n",
       "  <tbody>\n",
       "    <tr>\n",
       "      <th>0</th>\n",
       "      <td>Akash</td>\n",
       "      <td>88</td>\n",
       "    </tr>\n",
       "    <tr>\n",
       "      <th>1</th>\n",
       "      <td>Akasha</td>\n",
       "      <td>92</td>\n",
       "    </tr>\n",
       "    <tr>\n",
       "      <th>2</th>\n",
       "      <td>Alka</td>\n",
       "      <td>79</td>\n",
       "    </tr>\n",
       "    <tr>\n",
       "      <th>3</th>\n",
       "      <td>Priyanka</td>\n",
       "      <td>85</td>\n",
       "    </tr>\n",
       "  </tbody>\n",
       "</table>\n",
       "</div>"
      ],
      "text/plain": [
       "       name  marks\n",
       "0     Akash     88\n",
       "1    Akasha     92\n",
       "2      Alka     79\n",
       "3  Priyanka     85"
      ]
     },
     "execution_count": 30,
     "metadata": {},
     "output_type": "execute_result"
    }
   ],
   "source": [
    "df2 = pd.DataFrame({\"name\": [\"Akash\", \"Akasha\", \"Alka\", \"Priyanka\"], \"marks\": [88, 92, 79, 85]})\n",
    "\n",
    "df2"
   ]
  },
  {
   "cell_type": "code",
   "execution_count": 31,
   "id": "c3c6b18e",
   "metadata": {},
   "outputs": [
    {
     "data": {
      "application/vnd.microsoft.datawrangler.viewer.v0+json": {
       "columns": [
        {
         "name": "index",
         "rawType": "int64",
         "type": "integer"
        },
        {
         "name": "name",
         "rawType": "object",
         "type": "string"
        },
        {
         "name": "marks",
         "rawType": "int64",
         "type": "integer"
        }
       ],
       "ref": "42268a1d-7c37-4bbf-8324-3e1967fd0865",
       "rows": [
        [
         "0",
         "Alice",
         "85"
        ],
        [
         "1",
         "Bob",
         "90"
        ],
        [
         "2",
         "Charlie",
         "78"
        ],
        [
         "3",
         "Rohan",
         "88"
        ],
        [
         "4",
         "Shubham",
         "92"
        ],
        [
         "5",
         "Aparna",
         "95"
        ],
        [
         "6",
         "Khushi",
         "80"
        ],
        [
         "7",
         "Akash",
         "88"
        ],
        [
         "8",
         "Akasha",
         "92"
        ],
        [
         "9",
         "Alka",
         "79"
        ],
        [
         "10",
         "Priyanka",
         "85"
        ]
       ],
       "shape": {
        "columns": 2,
        "rows": 11
       }
      },
      "text/html": [
       "<div>\n",
       "<style scoped>\n",
       "    .dataframe tbody tr th:only-of-type {\n",
       "        vertical-align: middle;\n",
       "    }\n",
       "\n",
       "    .dataframe tbody tr th {\n",
       "        vertical-align: top;\n",
       "    }\n",
       "\n",
       "    .dataframe thead th {\n",
       "        text-align: right;\n",
       "    }\n",
       "</style>\n",
       "<table border=\"1\" class=\"dataframe\">\n",
       "  <thead>\n",
       "    <tr style=\"text-align: right;\">\n",
       "      <th></th>\n",
       "      <th>name</th>\n",
       "      <th>marks</th>\n",
       "    </tr>\n",
       "  </thead>\n",
       "  <tbody>\n",
       "    <tr>\n",
       "      <th>0</th>\n",
       "      <td>Alice</td>\n",
       "      <td>85</td>\n",
       "    </tr>\n",
       "    <tr>\n",
       "      <th>1</th>\n",
       "      <td>Bob</td>\n",
       "      <td>90</td>\n",
       "    </tr>\n",
       "    <tr>\n",
       "      <th>2</th>\n",
       "      <td>Charlie</td>\n",
       "      <td>78</td>\n",
       "    </tr>\n",
       "    <tr>\n",
       "      <th>3</th>\n",
       "      <td>Rohan</td>\n",
       "      <td>88</td>\n",
       "    </tr>\n",
       "    <tr>\n",
       "      <th>4</th>\n",
       "      <td>Shubham</td>\n",
       "      <td>92</td>\n",
       "    </tr>\n",
       "    <tr>\n",
       "      <th>5</th>\n",
       "      <td>Aparna</td>\n",
       "      <td>95</td>\n",
       "    </tr>\n",
       "    <tr>\n",
       "      <th>6</th>\n",
       "      <td>Khushi</td>\n",
       "      <td>80</td>\n",
       "    </tr>\n",
       "    <tr>\n",
       "      <th>7</th>\n",
       "      <td>Akash</td>\n",
       "      <td>88</td>\n",
       "    </tr>\n",
       "    <tr>\n",
       "      <th>8</th>\n",
       "      <td>Akasha</td>\n",
       "      <td>92</td>\n",
       "    </tr>\n",
       "    <tr>\n",
       "      <th>9</th>\n",
       "      <td>Alka</td>\n",
       "      <td>79</td>\n",
       "    </tr>\n",
       "    <tr>\n",
       "      <th>10</th>\n",
       "      <td>Priyanka</td>\n",
       "      <td>85</td>\n",
       "    </tr>\n",
       "  </tbody>\n",
       "</table>\n",
       "</div>"
      ],
      "text/plain": [
       "        name  marks\n",
       "0      Alice     85\n",
       "1        Bob     90\n",
       "2    Charlie     78\n",
       "3      Rohan     88\n",
       "4    Shubham     92\n",
       "5     Aparna     95\n",
       "6     Khushi     80\n",
       "7      Akash     88\n",
       "8     Akasha     92\n",
       "9       Alka     79\n",
       "10  Priyanka     85"
      ]
     },
     "execution_count": 31,
     "metadata": {},
     "output_type": "execute_result"
    }
   ],
   "source": [
    "pd.concat([df1, df2], ignore_index=True)"
   ]
  },
  {
   "cell_type": "code",
   "execution_count": 32,
   "id": "5aebc7d1",
   "metadata": {},
   "outputs": [],
   "source": [
    "df1 = pd.DataFrame({\n",
    "    \"name\": [\"Alka\", \"Priyanka\"], \n",
    "    \"marks\": [88, 92]\n",
    "})"
   ]
  },
  {
   "cell_type": "code",
   "execution_count": 33,
   "id": "942e187b",
   "metadata": {},
   "outputs": [],
   "source": [
    "df2 = pd.DataFrame({\n",
    "    \"name\": [\"Alka\", \"Priyanka\", \"Harry\"],\n",
    "    \"rollNo\": [266, 284, 299],\n",
    "})"
   ]
  },
  {
   "cell_type": "code",
   "execution_count": 34,
   "id": "17e83288",
   "metadata": {},
   "outputs": [
    {
     "data": {
      "application/vnd.microsoft.datawrangler.viewer.v0+json": {
       "columns": [
        {
         "name": "index",
         "rawType": "int64",
         "type": "integer"
        },
        {
         "name": "name",
         "rawType": "object",
         "type": "string"
        },
        {
         "name": "marks",
         "rawType": "int64",
         "type": "integer"
        },
        {
         "name": "rollNo",
         "rawType": "int64",
         "type": "integer"
        }
       ],
       "ref": "e1e8a837-f6ac-48b3-835f-55cd97ed9e28",
       "rows": [
        [
         "0",
         "Alka",
         "88",
         "266"
        ],
        [
         "1",
         "Priyanka",
         "92",
         "284"
        ]
       ],
       "shape": {
        "columns": 3,
        "rows": 2
       }
      },
      "text/html": [
       "<div>\n",
       "<style scoped>\n",
       "    .dataframe tbody tr th:only-of-type {\n",
       "        vertical-align: middle;\n",
       "    }\n",
       "\n",
       "    .dataframe tbody tr th {\n",
       "        vertical-align: top;\n",
       "    }\n",
       "\n",
       "    .dataframe thead th {\n",
       "        text-align: right;\n",
       "    }\n",
       "</style>\n",
       "<table border=\"1\" class=\"dataframe\">\n",
       "  <thead>\n",
       "    <tr style=\"text-align: right;\">\n",
       "      <th></th>\n",
       "      <th>name</th>\n",
       "      <th>marks</th>\n",
       "      <th>rollNo</th>\n",
       "    </tr>\n",
       "  </thead>\n",
       "  <tbody>\n",
       "    <tr>\n",
       "      <th>0</th>\n",
       "      <td>Alka</td>\n",
       "      <td>88</td>\n",
       "      <td>266</td>\n",
       "    </tr>\n",
       "    <tr>\n",
       "      <th>1</th>\n",
       "      <td>Priyanka</td>\n",
       "      <td>92</td>\n",
       "      <td>284</td>\n",
       "    </tr>\n",
       "  </tbody>\n",
       "</table>\n",
       "</div>"
      ],
      "text/plain": [
       "       name  marks  rollNo\n",
       "0      Alka     88     266\n",
       "1  Priyanka     92     284"
      ]
     },
     "execution_count": 34,
     "metadata": {},
     "output_type": "execute_result"
    }
   ],
   "source": [
    "pd.merge(df1, df2, on='name')"
   ]
  },
  {
   "cell_type": "code",
   "execution_count": null,
   "id": "2a6b5bb4",
   "metadata": {},
   "outputs": [],
   "source": []
  }
 ],
 "metadata": {
  "kernelspec": {
   "display_name": "Python 3",
   "language": "python",
   "name": "python3"
  },
  "language_info": {
   "codemirror_mode": {
    "name": "ipython",
    "version": 3
   },
   "file_extension": ".py",
   "mimetype": "text/x-python",
   "name": "python",
   "nbconvert_exporter": "python",
   "pygments_lexer": "ipython3",
   "version": "3.9.6"
  }
 },
 "nbformat": 4,
 "nbformat_minor": 5
}
