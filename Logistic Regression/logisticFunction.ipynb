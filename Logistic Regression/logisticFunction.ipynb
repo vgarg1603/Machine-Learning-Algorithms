{
 "cells": [
  {
   "cell_type": "code",
   "execution_count": 1,
   "id": "8c94b43b",
   "metadata": {},
   "outputs": [],
   "source": [
    "import numpy as np"
   ]
  },
  {
   "cell_type": "code",
   "execution_count": 2,
   "id": "be507483",
   "metadata": {},
   "outputs": [],
   "source": [
    "input_arr = np.array([1, 2, 3])\n"
   ]
  },
  {
   "cell_type": "code",
   "execution_count": 3,
   "id": "13550477",
   "metadata": {},
   "outputs": [],
   "source": [
    "def sigmoid(z):\n",
    "    return 1 / (1 + np.exp(-z))"
   ]
  },
  {
   "cell_type": "code",
   "execution_count": 4,
   "id": "88b04526",
   "metadata": {},
   "outputs": [
    {
     "name": "stdout",
     "output_type": "stream",
     "text": [
      "[[-1.00000000e+01  4.53978687e-05]\n",
      " [-9.00000000e+00  1.23394576e-04]\n",
      " [-8.00000000e+00  3.35350130e-04]\n",
      " [-7.00000000e+00  9.11051194e-04]\n",
      " [-6.00000000e+00  2.47262316e-03]\n",
      " [-5.00000000e+00  6.69285092e-03]\n",
      " [-4.00000000e+00  1.79862100e-02]\n",
      " [-3.00000000e+00  4.74258732e-02]\n",
      " [-2.00000000e+00  1.19202922e-01]\n",
      " [-1.00000000e+00  2.68941421e-01]\n",
      " [ 0.00000000e+00  5.00000000e-01]\n",
      " [ 1.00000000e+00  7.31058579e-01]\n",
      " [ 2.00000000e+00  8.80797078e-01]\n",
      " [ 3.00000000e+00  9.52574127e-01]\n",
      " [ 4.00000000e+00  9.82013790e-01]\n",
      " [ 5.00000000e+00  9.93307149e-01]\n",
      " [ 6.00000000e+00  9.97527377e-01]\n",
      " [ 7.00000000e+00  9.99088949e-01]\n",
      " [ 8.00000000e+00  9.99664650e-01]\n",
      " [ 9.00000000e+00  9.99876605e-01]\n",
      " [ 1.00000000e+01  9.99954602e-01]]\n"
     ]
    }
   ],
   "source": [
    "z_temp = np.arange(-10, 11)\n",
    "\n",
    "y = sigmoid(z_temp)\n",
    "\n",
    "print(np.c_[z_temp, y])"
   ]
  },
  {
   "cell_type": "code",
   "execution_count": null,
   "id": "4faf2b0e",
   "metadata": {},
   "outputs": [],
   "source": []
  }
 ],
 "metadata": {
  "kernelspec": {
   "display_name": "Python 3",
   "language": "python",
   "name": "python3"
  },
  "language_info": {
   "codemirror_mode": {
    "name": "ipython",
    "version": 3
   },
   "file_extension": ".py",
   "mimetype": "text/x-python",
   "name": "python",
   "nbconvert_exporter": "python",
   "pygments_lexer": "ipython3",
   "version": "3.9.6"
  }
 },
 "nbformat": 4,
 "nbformat_minor": 5
}
